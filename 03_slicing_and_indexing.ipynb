{
 "cells": [
  {
   "cell_type": "markdown",
   "id": "b34a40ec-c3ff-46f7-9e8d-cd44f3e828d7",
   "metadata": {},
   "source": [
    "# Slicing and Indexing\n",
    "\n",
    "NumPy provides powerful ways to access and modify array elements using indexing (selecting individual elements) and slicing (selecting subarrays). These operations are similar to Python lists but with additional features for multi-dimensional arrays."
   ]
  },
  {
   "cell_type": "markdown",
   "id": "db1f00b3-f821-49de-be7d-b94b455de9ca",
   "metadata": {},
   "source": [
    "## Indexing"
   ]
  },
  {
   "cell_type": "markdown",
   "id": "b6059214-e3da-4582-99ed-76a05f99fb7d",
   "metadata": {},
   "source": [
    "### 1D Array Indexing"
   ]
  },
  {
   "cell_type": "code",
   "execution_count": 1,
   "id": "5176b5b2-a1c3-4daa-9e70-69830f6cf449",
   "metadata": {},
   "outputs": [
    {
     "name": "stdout",
     "output_type": "stream",
     "text": [
      "20\n",
      "[10 20 99 40 50]\n"
     ]
    }
   ],
   "source": [
    "import numpy as np\n",
    "\n",
    "arr = np.array([10, 20, 30, 40, 50])\n",
    "\n",
    "# Access the 2nd element (0-based index)\n",
    "print(arr[1])  # Output: 20\n",
    "\n",
    "# Modify the 3rd element\n",
    "arr[2] = 99\n",
    "print(arr)  # Output: [10 20 99 40 50]"
   ]
  },
  {
   "cell_type": "markdown",
   "id": "27d4f917-a70f-42a0-8bd2-1abce8691404",
   "metadata": {},
   "source": [
    "### 2D Array (Matrix) Indexing"
   ]
  },
  {
   "cell_type": "code",
   "execution_count": 2,
   "id": "904f78f1-9610-4efc-88b1-c98e25d2cc0e",
   "metadata": {},
   "outputs": [
    {
     "name": "stdout",
     "output_type": "stream",
     "text": [
      "6\n",
      "[[ 1 99  3]\n",
      " [ 4  5  6]]\n"
     ]
    }
   ],
   "source": [
    "import numpy as np\n",
    "\n",
    "arr = np.array([[1, 2, 3], [4, 5, 6]])\n",
    "\n",
    "# Get element at row 1, column 2\n",
    "print(arr[1, 2])  # Output: 6\n",
    "\n",
    "# Modify element at row 0, column 1\n",
    "arr[0, 1] = 99\n",
    "print(arr)\n",
    "# Output:\n",
    "# [[ 1 99  3]\n",
    "#  [ 4  5  6]]"
   ]
  },
  {
   "cell_type": "markdown",
   "id": "70a3b87e-decf-4113-b353-29a45b999893",
   "metadata": {},
   "source": [
    "### Negative Indexing"
   ]
  },
  {
   "cell_type": "code",
   "execution_count": 3,
   "id": "b39f404b-6b35-4d2a-a357-d95ffa5c41e0",
   "metadata": {},
   "outputs": [
    {
     "name": "stdout",
     "output_type": "stream",
     "text": [
      "50\n",
      "40\n"
     ]
    }
   ],
   "source": [
    "import numpy as np\n",
    "\n",
    "arr = np.array([10, 20, 30, 40, 50])\n",
    "\n",
    "# Access the last element\n",
    "print(arr[-1])  # Output: 50\n",
    "\n",
    "# Access the second-last element\n",
    "print(arr[-2])  # Output: 40"
   ]
  },
  {
   "cell_type": "markdown",
   "id": "1a7b73bd-bb8b-4292-a798-109fc463a134",
   "metadata": {},
   "source": [
    "## Slicing\n",
    "\n",
    "Slicing extracts a portion of an array in the form start:stop:step"
   ]
  },
  {
   "cell_type": "markdown",
   "id": "6c77819e-d386-4e5d-a28c-53f1784685e9",
   "metadata": {},
   "source": [
    "### 1D Array Slicing"
   ]
  },
  {
   "cell_type": "code",
   "execution_count": 4,
   "id": "9be3e1fe-a6fd-48cf-a050-dd7b8894d087",
   "metadata": {},
   "outputs": [
    {
     "name": "stdout",
     "output_type": "stream",
     "text": [
      "[20 30]\n",
      "[10 30 50]\n",
      "[50 40 30 20 10]\n"
     ]
    }
   ],
   "source": [
    "import numpy as np\n",
    "\n",
    "arr = np.array([10, 20, 30, 40, 50])\n",
    "\n",
    "# Get elements from index 1 to 3 (exclusive)\n",
    "print(arr[1:3])  # Output: [20 30]\n",
    "\n",
    "# Get every alternate element\n",
    "print(arr[::2])  # Output: [10 30 50]\n",
    "\n",
    "# Reverse the array\n",
    "print(arr[::-1])  # Output: [50 40 30 20 10]"
   ]
  },
  {
   "cell_type": "markdown",
   "id": "6b394e85-abfc-4556-a163-a652d3f7506b",
   "metadata": {},
   "source": [
    "### 2D Array Slicing"
   ]
  },
  {
   "cell_type": "code",
   "execution_count": 5,
   "id": "0787e236-f4c9-4b09-af89-e363367342f2",
   "metadata": {},
   "outputs": [
    {
     "name": "stdout",
     "output_type": "stream",
     "text": [
      "[1 2 3]\n",
      "[2 5 8]\n",
      "[[2 3]\n",
      " [5 6]]\n"
     ]
    }
   ],
   "source": [
    "import numpy as np\n",
    "\n",
    "arr = np.array([[1, 2, 3], [4, 5, 6], [7, 8, 9]])\n",
    "\n",
    "# Get the first row\n",
    "print(arr[0, :])  # Output: [1 2 3]\n",
    "\n",
    "# Get the second column\n",
    "print(arr[:, 1])  # Output: [2 5 8]\n",
    "\n",
    "# Get a submatrix (rows 0-1, columns 1-2)\n",
    "print(arr[0:2, 1:3])\n",
    "# Output:\n",
    "# [[2 3]\n",
    "# [5 6]]"
   ]
  },
  {
   "cell_type": "markdown",
   "id": "1906f81d-a31a-4c88-84d8-428fb5d0d33a",
   "metadata": {},
   "source": [
    "### Modifying Slices"
   ]
  },
  {
   "cell_type": "code",
   "execution_count": 7,
   "id": "80331d66-ff24-4a92-87c9-80e8553d63e9",
   "metadata": {},
   "outputs": [
    {
     "name": "stdout",
     "output_type": "stream",
     "text": [
      "[ 10  99 100  40  50]\n"
     ]
    }
   ],
   "source": [
    "import numpy as np\n",
    "\n",
    "arr = np.array([10, 20, 30, 40, 50])\n",
    "\n",
    "# Change elements from index 1 to 3\n",
    "arr[1:3] = [99, 100]\n",
    "print(arr)  # Output: [10 99 100 40 50]"
   ]
  },
  {
   "cell_type": "markdown",
   "id": "ff79b6c3-274e-4092-a2bc-1536c5c49240",
   "metadata": {},
   "source": [
    "## Advanced Indexing\n",
    "\n",
    "NumPy supports boolean masking and fancy indexing for more complex selections."
   ]
  },
  {
   "cell_type": "markdown",
   "id": "467d4061-58e1-4ac6-845f-f1251b61fe1f",
   "metadata": {},
   "source": [
    "### Boolean Masking (Conditional Selection)"
   ]
  },
  {
   "cell_type": "code",
   "execution_count": 8,
   "id": "0399da12-f708-4f61-8660-2e24a1e9997f",
   "metadata": {},
   "outputs": [
    {
     "name": "stdout",
     "output_type": "stream",
     "text": [
      "[4 5]\n",
      "[1 0 3 0 5]\n"
     ]
    }
   ],
   "source": [
    "import numpy as np\n",
    "\n",
    "arr = np.array([1, 2, 3, 4, 5])\n",
    "\n",
    "# Get elements greater than 3\n",
    "mask = arr > 3\n",
    "print(arr[mask])  # Output: [4 5]\n",
    "\n",
    "# Set all even numbers to 0\n",
    "arr[arr % 2 == 0] = 0\n",
    "print(arr)  # Output: [1 0 3 0 5]"
   ]
  },
  {
   "cell_type": "markdown",
   "id": "7c73afe9-b7fe-4ba8-a54b-a478d098d06b",
   "metadata": {},
   "source": [
    "### Fancy Indexing (Using Integer Arrays)"
   ]
  },
  {
   "cell_type": "code",
   "execution_count": 9,
   "id": "cd49554f-2fee-4888-84b4-e13a7dad6466",
   "metadata": {},
   "outputs": [
    {
     "name": "stdout",
     "output_type": "stream",
     "text": [
      "[10 30 50]\n",
      "[100  20 200  40 300]\n"
     ]
    }
   ],
   "source": [
    "import numpy as np\n",
    "\n",
    "arr = np.array([10, 20, 30, 40, 50])\n",
    "\n",
    "# Select elements at positions 0, 2, and 4\n",
    "indices = [0, 2, 4]\n",
    "print(arr[indices])  # Output: [10 30 50]\n",
    "\n",
    "# Modify selected elements\n",
    "arr[indices] = [100, 200, 300]\n",
    "print(arr)  # Output: [100 20 200 40 300]"
   ]
  },
  {
   "cell_type": "markdown",
   "id": "0be5555b-4661-46ff-9138-eebfd2cf38d8",
   "metadata": {},
   "source": [
    "## Key Differences Between Indexing & Slicing\n",
    "\n",
    "<table style=\"float: left;\">\n",
    "    <tr>\n",
    "        <td>Feature</td>\n",
    "        <td>Indexing (arr[i])</td>\n",
    "        <td>Slicing (arr[i:j])</td>\n",
    "    </tr>\n",
    "    <tr>\n",
    "        <td>Returns</td>\n",
    "        <td>Single element</td>\n",
    "        <td>Subarray (view)</td>\n",
    "    </tr>\n",
    "    <tr>\n",
    "        <td>Modifies</td>\n",
    "        <td>Original array</td>\n",
    "        <td>Original array (if assigned)</td>\n",
    "    </tr>\n",
    "    <tr>\n",
    "        <td>Memory</td>\n",
    "        <td>No copy (direct reference)</td>\n",
    "        <td>Creates a view (no copy)</td>\n",
    "    </tr>\n",
    "    <tr>\n",
    "        <td>Usage</td>\n",
    "        <td>arr[2]</td>\n",
    "        <td>arr[1:4]</td>\n",
    "    </tr>\n",
    "</table>"
   ]
  },
  {
   "cell_type": "markdown",
   "id": "5d3d6df5-226b-4d0e-99fc-2ed9ebfe93bc",
   "metadata": {},
   "source": [
    "## Important Notes\n",
    "Slicing returns a view (not a copy), so modifying a slice affects the original array.\n",
    "\n",
    "```\n",
    "arr = np.array([1, 2, 3, 4])\n",
    "sub_arr = arr[1:3]  # This is a view\n",
    "sub_arr[0] = 99\n",
    "print(arr)  # Output: [1 99 3 4] (original modified)\n",
    "```\n",
    "\n",
    "To create an independent copy, use .copy():\n",
    "\n",
    "```\n",
    "sub_arr = arr[1:3].copy()  # Now changes won't affect original\n",
    "```\n",
    "\n",
    "Ellipsis (...) is used in multi-dimensional arrays to skip dimensions:\n",
    "\n",
    "```\n",
    "arr = np.random.rand(2, 3, 4)\n",
    "print(arr[..., 0])  # Equivalent to arr[:, :, 0]\n",
    "```"
   ]
  },
  {
   "cell_type": "code",
   "execution_count": null,
   "id": "417874ab-814b-45b0-a42b-6d1e19c0500c",
   "metadata": {},
   "outputs": [],
   "source": []
  }
 ],
 "metadata": {
  "kernelspec": {
   "display_name": "Python 3 (ipykernel)",
   "language": "python",
   "name": "python3"
  },
  "language_info": {
   "codemirror_mode": {
    "name": "ipython",
    "version": 3
   },
   "file_extension": ".py",
   "mimetype": "text/x-python",
   "name": "python",
   "nbconvert_exporter": "python",
   "pygments_lexer": "ipython3",
   "version": "3.12.5"
  }
 },
 "nbformat": 4,
 "nbformat_minor": 5
}
