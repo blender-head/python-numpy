{
 "cells": [
  {
   "cell_type": "markdown",
   "id": "d521eda9-ad7a-4be0-9a6c-d11465877b90",
   "metadata": {},
   "source": [
    "# Comparison Functions"
   ]
  },
  {
   "cell_type": "markdown",
   "id": "e999edc4-7d82-4790-aa56-5d481f5569fb",
   "metadata": {},
   "source": [
    "NumPy provides several comparison functions that allow you to compare arrays element-wise or perform logical operations. These functions return boolean arrays or scalar boolean values."
   ]
  },
  {
   "cell_type": "markdown",
   "id": "f3e1b0fa-6703-4f5d-badf-f312c047cba0",
   "metadata": {},
   "source": [
    "## numpy.equal() or =="
   ]
  },
  {
   "cell_type": "markdown",
   "id": "ea6b4b3a-69dd-4e49-8471-b84c1d92c249",
   "metadata": {},
   "source": [
    "Compares if elements are equal."
   ]
  },
  {
   "cell_type": "markdown",
   "id": "14a1a789-7995-41a4-9621-2f427b5eac2b",
   "metadata": {},
   "source": [
    "### Parameters:\n",
    "- `x1`, `x2`: Input arrays to compare\n",
    "- `out`: Optional output array\n",
    "- `where`: Condition to choose where to compare"
   ]
  },
  {
   "cell_type": "code",
   "execution_count": 1,
   "id": "b6e872d9-f1bf-4609-ac2a-b591279c600f",
   "metadata": {},
   "outputs": [
    {
     "name": "stdout",
     "output_type": "stream",
     "text": [
      "[ True False  True]\n",
      "[ True False  True]\n"
     ]
    }
   ],
   "source": [
    "import numpy as np\n",
    "\n",
    "a = np.array([1, 2, 3])\n",
    "b = np.array([1, 4, 3])\n",
    "print(np.equal(a, b))  # Output: [ True False  True]\n",
    "print(a == b)          # Alternative syntax"
   ]
  },
  {
   "cell_type": "markdown",
   "id": "7ac2d296-7642-48a2-ad35-582106d2e390",
   "metadata": {},
   "source": [
    "## numpy.not_equal() or !="
   ]
  },
  {
   "cell_type": "markdown",
   "id": "57227da2-ed4b-408b-b808-63d8d9e2b68d",
   "metadata": {},
   "source": [
    "Compares if elements are not equal."
   ]
  },
  {
   "cell_type": "code",
   "execution_count": 2,
   "id": "0ee1fc1e-94ff-482f-8610-2a751269351d",
   "metadata": {},
   "outputs": [
    {
     "name": "stdout",
     "output_type": "stream",
     "text": [
      "[False  True False]\n",
      "[False  True False]\n"
     ]
    }
   ],
   "source": [
    "import numpy as np\n",
    "\n",
    "print(np.not_equal(a, b))  # Output: [False  True False]\n",
    "print(a != b)              # Alternative syntax"
   ]
  },
  {
   "cell_type": "markdown",
   "id": "db0ec32f-1444-4081-bf28-0996b428786d",
   "metadata": {},
   "source": [
    "## numpy.greater() or >"
   ]
  },
  {
   "cell_type": "markdown",
   "id": "0054ac1a-7c37-4d76-8961-493fe10ebbbe",
   "metadata": {},
   "source": [
    "Checks if elements in first array are greater than second array."
   ]
  },
  {
   "cell_type": "code",
   "execution_count": 3,
   "id": "8fa7370f-2023-470f-94e5-21166424d45c",
   "metadata": {},
   "outputs": [
    {
     "name": "stdout",
     "output_type": "stream",
     "text": [
      "[False False False]\n",
      "[False False False]\n"
     ]
    }
   ],
   "source": [
    "import numpy as np\n",
    "\n",
    "print(np.greater(a, b))  # Output: [False False False]\n",
    "print(a > b)             # Alternative syntax"
   ]
  },
  {
   "cell_type": "markdown",
   "id": "070acc00-7432-413f-907e-e75198bcc30d",
   "metadata": {},
   "source": [
    "## numpy.greater_equal() or >="
   ]
  },
  {
   "cell_type": "markdown",
   "id": "e041790f-f3d6-44c7-81f1-6d9b3d708de8",
   "metadata": {},
   "source": [
    "Checks if elements in first array are greater than or equal to second array."
   ]
  },
  {
   "cell_type": "code",
   "execution_count": 4,
   "id": "0d525588-c55a-48ac-8134-0f5fbca5b907",
   "metadata": {},
   "outputs": [
    {
     "name": "stdout",
     "output_type": "stream",
     "text": [
      "[ True False  True]\n",
      "[ True False  True]\n"
     ]
    }
   ],
   "source": [
    "import numpy as np\n",
    "\n",
    "print(np.greater_equal(a, b))  # Output: [ True False  True]\n",
    "print(a >= b)                  # Alternative syntax"
   ]
  },
  {
   "cell_type": "markdown",
   "id": "495cd5a9-df4e-487c-95ce-d95694d83222",
   "metadata": {},
   "source": [
    "## numpy.less() or <"
   ]
  },
  {
   "cell_type": "markdown",
   "id": "4287ec46-29f0-4b7e-be14-efe1fc95d4a9",
   "metadata": {},
   "source": [
    "Checks if elements in first array are less than second array."
   ]
  },
  {
   "cell_type": "code",
   "execution_count": 5,
   "id": "42f6671b-2a49-480e-9bb3-ddb654400f59",
   "metadata": {},
   "outputs": [
    {
     "name": "stdout",
     "output_type": "stream",
     "text": [
      "[False  True False]\n",
      "[False  True False]\n"
     ]
    }
   ],
   "source": [
    "import numpy as np\n",
    "\n",
    "print(np.less(a, b))  # Output: [False  True False]\n",
    "print(a < b)          # Alternative syntax"
   ]
  },
  {
   "cell_type": "markdown",
   "id": "fb9f04aa-4c90-462d-9224-79fd8a162fb5",
   "metadata": {},
   "source": [
    "## numpy.less_equal() or <="
   ]
  },
  {
   "cell_type": "markdown",
   "id": "83061381-12e3-4488-8657-01ac4caaadf3",
   "metadata": {},
   "source": [
    "Checks if elements in first array are less than or equal to second array."
   ]
  },
  {
   "cell_type": "code",
   "execution_count": 6,
   "id": "abdf2d12-64e1-4a0a-8efc-0d697e54c1db",
   "metadata": {},
   "outputs": [
    {
     "name": "stdout",
     "output_type": "stream",
     "text": [
      "[ True  True  True]\n",
      "[ True  True  True]\n"
     ]
    }
   ],
   "source": [
    "import numpy as np\n",
    "\n",
    "print(np.less_equal(a, b))  # Output: [ True  True  True]\n",
    "print(a <= b)               # Alternative syntax"
   ]
  },
  {
   "cell_type": "markdown",
   "id": "a10ca28c-e3a4-4045-b73f-864ef4ccc30e",
   "metadata": {},
   "source": [
    "## numpy.array_equal()"
   ]
  },
  {
   "cell_type": "markdown",
   "id": "ab5177ef-460f-48c2-8f93-32cded328518",
   "metadata": {},
   "source": [
    "Checks if two arrays have the same shape and elements."
   ]
  },
  {
   "cell_type": "markdown",
   "id": "e2fcea21-ea16-46a0-9104-5f6384e68c48",
   "metadata": {},
   "source": [
    "### Parameters\n",
    "- `a1`, `a2`: Input arrays to compare\n",
    "- `equal_nan`: Whether to consider NaN values as equal (default: False)"
   ]
  },
  {
   "cell_type": "markdown",
   "id": "0b09e9e5-1d17-4b9e-9b7d-3979c55cedee",
   "metadata": {},
   "source": [
    "import numpy as np\n",
    "\n",
    "a = np.array([1, 2, 3])\n",
    "b = np.array([1, 2, 3])\n",
    "c = np.array([1, 2, 4])\n",
    "print(np.array_equal(a, b))  # Output: True\n",
    "print(np.array_equal(a, c))  # Output: False"
   ]
  },
  {
   "cell_type": "markdown",
   "id": "5e899927-b958-4873-96e6-ee10a3bf2d10",
   "metadata": {},
   "source": [
    "## numpy.logical_and()"
   ]
  },
  {
   "cell_type": "markdown",
   "id": "4a416c87-6275-48d5-bf09-249feb28c945",
   "metadata": {},
   "source": [
    "Element-wise logical AND operation."
   ]
  },
  {
   "cell_type": "code",
   "execution_count": 8,
   "id": "1ccf4bd4-cd23-411a-bf30-6109d7feaef1",
   "metadata": {},
   "outputs": [
    {
     "name": "stdout",
     "output_type": "stream",
     "text": [
      "[ True False False False]\n"
     ]
    }
   ],
   "source": [
    "import numpy as np\n",
    "\n",
    "a = np.array([True, True, False, False])\n",
    "b = np.array([True, False, True, False])\n",
    "print(np.logical_and(a, b))  # Output: [ True False False False]"
   ]
  },
  {
   "cell_type": "markdown",
   "id": "65a97466-785e-4ec6-864f-7005b585a981",
   "metadata": {},
   "source": [
    "## numpy.logical_or()"
   ]
  },
  {
   "cell_type": "markdown",
   "id": "c2bb2738-13d2-428b-89cb-5272c56eb497",
   "metadata": {},
   "source": [
    "Element-wise logical OR operation."
   ]
  },
  {
   "cell_type": "code",
   "execution_count": 9,
   "id": "254f90ad-469b-4fbe-aafb-2a59f7187431",
   "metadata": {},
   "outputs": [
    {
     "name": "stdout",
     "output_type": "stream",
     "text": [
      "[ True  True  True False]\n"
     ]
    }
   ],
   "source": [
    "import numpy as np\n",
    "\n",
    "print(np.logical_or(a, b))  # Output: [ True  True  True False]"
   ]
  },
  {
   "cell_type": "markdown",
   "id": "787202ca-a896-4305-b0e8-b9c604cdb472",
   "metadata": {},
   "source": [
    "## numpy.logical_not()"
   ]
  },
  {
   "cell_type": "markdown",
   "id": "9ea4a233-6bd4-4849-b626-ca8d9af8f3d5",
   "metadata": {},
   "source": [
    "Element-wise logical NOT operation."
   ]
  },
  {
   "cell_type": "code",
   "execution_count": 10,
   "id": "e7843577-320e-4c6d-85d6-c7066b9354a1",
   "metadata": {},
   "outputs": [
    {
     "name": "stdout",
     "output_type": "stream",
     "text": [
      "[False False  True  True]\n"
     ]
    }
   ],
   "source": [
    "import numpy as np\n",
    "\n",
    "print(np.logical_not(a))  # Output: [False False  True  True]"
   ]
  },
  {
   "cell_type": "markdown",
   "id": "d2666c5b-ab8e-4044-ac1c-c25f29b84a08",
   "metadata": {},
   "source": [
    "## numpy.isclose()"
   ]
  },
  {
   "cell_type": "markdown",
   "id": "1dce2b5a-0928-4ad6-860a-3f9611718cdc",
   "metadata": {},
   "source": [
    "Compares if elements are approximately equal (useful for floating-point comparisons)."
   ]
  },
  {
   "cell_type": "markdown",
   "id": "156a0ca5-49c3-4efc-8a91-09355bc6dfce",
   "metadata": {},
   "source": [
    "### Parameters\n",
    "- `a`, `b`: Input arrays to compare\n",
    "- `rtol`: Relative tolerance (default: 1e-05)\n",
    "- `atol`: Absolute tolerance (default: 1e-08)\n",
    "- `equal_nan`: Whether to compare NaN as equal (default: False)"
   ]
  },
  {
   "cell_type": "code",
   "execution_count": 12,
   "id": "f0bce741-8ca1-4975-833d-b48058799e96",
   "metadata": {},
   "outputs": [
    {
     "name": "stdout",
     "output_type": "stream",
     "text": [
      "[ True  True  True]\n"
     ]
    }
   ],
   "source": [
    "import numpy as np\n",
    "\n",
    "a = np.array([1.0, 2.0, 3.000001])\n",
    "b = np.array([1.0, 2.0, 3.0])\n",
    "print(np.isclose(a, b))  # Output: [ True  True  True]"
   ]
  },
  {
   "cell_type": "code",
   "execution_count": null,
   "id": "7bcce022-3fa6-414b-8e1d-4ad3237af629",
   "metadata": {},
   "outputs": [],
   "source": []
  }
 ],
 "metadata": {
  "kernelspec": {
   "display_name": "Python 3 (ipykernel)",
   "language": "python",
   "name": "python3"
  },
  "language_info": {
   "codemirror_mode": {
    "name": "ipython",
    "version": 3
   },
   "file_extension": ".py",
   "mimetype": "text/x-python",
   "name": "python",
   "nbconvert_exporter": "python",
   "pygments_lexer": "ipython3",
   "version": "3.12.5"
  }
 },
 "nbformat": 4,
 "nbformat_minor": 5
}
