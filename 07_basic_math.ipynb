{
 "cells": [
  {
   "cell_type": "markdown",
   "id": "bc609920-dda3-4d88-92e8-fd1ed02389b1",
   "metadata": {},
   "source": [
    "# Basic Math Operations\n",
    "\n",
    "NumPy makes it easy to perform basic mathematical operations on arrays"
   ]
  },
  {
   "cell_type": "markdown",
   "id": "a27f43fa-6a6a-43a8-97d1-df7dde381a75",
   "metadata": {},
   "source": [
    "## Arithmetic Operations"
   ]
  },
  {
   "cell_type": "code",
   "execution_count": 2,
   "id": "dbeef1ad-1ec9-495f-b0c0-49ff080777b1",
   "metadata": {},
   "outputs": [
    {
     "name": "stdout",
     "output_type": "stream",
     "text": [
      "[5 7 9]\n",
      "[5 7 9]\n",
      "[3 3 3]\n",
      "[3 3 3]\n",
      "[ 4 10 18]\n",
      "[ 4 10 18]\n",
      "[4.  2.5 2. ]\n",
      "[4.  2.5 2. ]\n",
      "[1 4 9]\n",
      "[1 4 9]\n",
      "[1.         1.41421356 1.73205081]\n",
      "[0.0000000e+00 1.0000000e+00 1.2246468e-16]\n",
      "[0.         0.69314718 1.09861229]\n",
      "[1 2 3]\n"
     ]
    }
   ],
   "source": [
    "import numpy as np\n",
    "\n",
    "# Create arrays\n",
    "a = np.array([1, 2, 3])\n",
    "b = np.array([4, 5, 6])\n",
    "\n",
    "# Addition\n",
    "print(a + b)      # [5 7 9]\n",
    "print(np.add(a, b))  # equivalent\n",
    "\n",
    "# Subtraction\n",
    "print(b - a)      # [3 3 3]\n",
    "print(np.subtract(b, a))\n",
    "\n",
    "# Multiplication (element-wise)\n",
    "print(a * b)      # [4 10 18]\n",
    "print(np.multiply(a, b))\n",
    "\n",
    "# Division (element-wise)\n",
    "print(b / a)      # [4.  2.5 2. ]\n",
    "print(np.divide(b, a))\n",
    "\n",
    "# Exponentiation\n",
    "print(a ** 2)     # [1 4 9]\n",
    "print(np.power(a, 2))\n",
    "\n",
    "# Square root\n",
    "print(np.sqrt(a))  # [1.         1.41421356 1.73205081]\n",
    "\n",
    "# Trigonometric functions\n",
    "angles = np.array([0, np.pi/2, np.pi])\n",
    "print(np.sin(angles))\n",
    "\n",
    "# Logarithms\n",
    "print(np.log(a))   # Natural log [0.         0.69314718 1.09861229]\n",
    "\n",
    "# Absolute value\n",
    "c = np.array([-1, -2, 3])\n",
    "print(np.abs(c))   # [1 2 3]"
   ]
  },
  {
   "cell_type": "markdown",
   "id": "7ea1d72c-acd9-4289-87c1-1f2909ba3574",
   "metadata": {},
   "source": [
    "## Aggregation Operations"
   ]
  },
  {
   "cell_type": "code",
   "execution_count": 15,
   "id": "3909edca-5af2-440c-b56e-890c1573d836",
   "metadata": {},
   "outputs": [
    {
     "name": "stdout",
     "output_type": "stream",
     "text": [
      "10\n",
      "[4 6]\n",
      "[3 7]\n",
      "2.5\n",
      "4\n",
      "1\n",
      "1.118033988749895\n",
      "2\n"
     ]
    }
   ],
   "source": [
    "import numpy as np\n",
    "\n",
    "arr = np.array([[1, 2], [3, 4]])\n",
    "\n",
    "# Sum all elements\n",
    "print(np.sum(arr))  # 10\n",
    "\n",
    "# Sum along axis 0 (columns)\n",
    "print(np.sum(arr, axis=0))  # [4 6]\n",
    "\n",
    "# Sum along axis 1 (rows)\n",
    "print(np.sum(arr, axis=1))  # [3 7]\n",
    "\n",
    "# Other aggregations\n",
    "print(np.mean(arr))  # 2.5 (average)\n",
    "print(np.max(arr))   # 4\n",
    "print(np.min(arr))   # 1\n",
    "print(np.std(arr))   # standard deviation\n",
    "\n",
    "arr = np.array([10, 5, 20, 15])\n",
    "result = np.argmax(arr)\n",
    "print(result)  # Output: 2 (since 20 is at index 2)"
   ]
  },
  {
   "cell_type": "markdown",
   "id": "1f77db57-de0f-43c9-b970-e76d0a1437e4",
   "metadata": {},
   "source": [
    "## Matrix Operations"
   ]
  },
  {
   "cell_type": "code",
   "execution_count": 4,
   "id": "a3686b7d-1c31-4a78-9042-8fcd4e83f373",
   "metadata": {},
   "outputs": [
    {
     "name": "stdout",
     "output_type": "stream",
     "text": [
      "[[19 22]\n",
      " [43 50]]\n",
      "[[1 3]\n",
      " [2 4]]\n"
     ]
    }
   ],
   "source": [
    "import numpy as np\n",
    "\n",
    "# Matrix multiplication\n",
    "mat1 = np.array([[1, 2], [3, 4]])\n",
    "mat2 = np.array([[5, 6], [7, 8]])\n",
    "print(np.dot(mat1, mat2))  # or mat1 @ mat2\n",
    "\n",
    "# Transpose\n",
    "print(mat1.T)"
   ]
  },
  {
   "cell_type": "markdown",
   "id": "65eff6e6-8a66-4075-9714-a8ca8add68be",
   "metadata": {},
   "source": [
    "## Cumulative Sum\n",
    "\n",
    "`cumsum` (cumulative sum) is a NumPy function that computes the running total of elements along a specified axis in an array. It returns an array where each element is the sum of all previous elements up to that position.\n",
    "\n",
    "### Basic Syntax\n",
    "```\n",
    "numpy.cumsum(a, axis=None, dtype=None)\n",
    "```\n",
    "\n",
    "Parameters\n",
    "- `a`: Input array\n",
    "- `axis`: Axis along which the cumulative sum is computed (default is flattened array)\n",
    "- `dtype`: Data type of the returned array (optional)"
   ]
  },
  {
   "cell_type": "markdown",
   "id": "b7e754dd-12d7-4444-810d-6c0e4fe8b1f4",
   "metadata": {},
   "source": [
    "###  1D Array (Simple Cumulative Sum)"
   ]
  },
  {
   "cell_type": "code",
   "execution_count": 5,
   "id": "b0c4913c-58a6-49ea-9c28-d706e31899d7",
   "metadata": {},
   "outputs": [
    {
     "name": "stdout",
     "output_type": "stream",
     "text": [
      "[ 1  3  6 10]\n"
     ]
    }
   ],
   "source": [
    "import numpy as np\n",
    "\n",
    "arr = np.array([1, 2, 3, 4])\n",
    "result = np.cumsum(arr)\n",
    "print(result)  # Output: [1, 3, 6, 10] (1, 1+2, 1+2+3, 1+2+3+4)"
   ]
  },
  {
   "cell_type": "markdown",
   "id": "892ca16b-1013-4e72-896d-eac59553d5d9",
   "metadata": {},
   "source": [
    "### 2D Array (Along Different Axes)"
   ]
  },
  {
   "cell_type": "code",
   "execution_count": 6,
   "id": "62a231a6-3c66-44b1-9076-89e6d3230482",
   "metadata": {},
   "outputs": [
    {
     "name": "stdout",
     "output_type": "stream",
     "text": [
      "[[1 2]\n",
      " [4 6]]\n",
      "[[1 3]\n",
      " [3 7]]\n"
     ]
    }
   ],
   "source": [
    "import numpy as np\n",
    "\n",
    "arr_2d = np.array([[1, 2], [3, 4]])\n",
    "\n",
    "# Cumulative sum along axis 0 (columns)\n",
    "print(np.cumsum(arr_2d, axis=0))\n",
    "# [[1 2]\n",
    "#  [4 6]] (1, 1+3=4; 2, 2+4=6)\n",
    "\n",
    "# Cumulative sum along axis 1 (rows)\n",
    "print(np.cumsum(arr_2d, axis=1))\n",
    "# [[1 3]\n",
    "#  [3 7]] (1, 1+2=3; 3, 3+4=7)"
   ]
  },
  {
   "cell_type": "markdown",
   "id": "0aac7a19-a3a0-441a-9615-ca84a1605c53",
   "metadata": {},
   "source": [
    "### Flattened Array"
   ]
  },
  {
   "cell_type": "code",
   "execution_count": 7,
   "id": "e29ee434-ea9a-4da0-88a6-d42de95adc6b",
   "metadata": {},
   "outputs": [
    {
     "name": "stdout",
     "output_type": "stream",
     "text": [
      "[ 1  3  6 10]\n"
     ]
    }
   ],
   "source": [
    "import numpy as np\n",
    "\n",
    "arr_2d = np.array([[1, 2], [3, 4]])\n",
    "print(np.cumsum(arr_2d))\n",
    "# Output: [1, 3, 6, 10] (1, 1+2, 1+2+3, 1+2+3+4)"
   ]
  },
  {
   "cell_type": "markdown",
   "id": "cd3e11dc-33d9-4605-b6ce-28a3fe434629",
   "metadata": {},
   "source": [
    "### With Different Data Types"
   ]
  },
  {
   "cell_type": "code",
   "execution_count": 8,
   "id": "2419d550-0b72-45b2-870c-5519989ae892",
   "metadata": {},
   "outputs": [
    {
     "name": "stdout",
     "output_type": "stream",
     "text": [
      "[1 3 6]\n"
     ]
    }
   ],
   "source": [
    "import numpy as np\n",
    "\n",
    "arr = np.array([1.5, 2.5, 3.5])\n",
    "print(np.cumsum(arr, dtype=int))  # Truncates to integers\n",
    "# Output: [1, 3, 6]"
   ]
  },
  {
   "cell_type": "markdown",
   "id": "de9b51f9-cdbf-41c8-8b2c-f932ae6e4107",
   "metadata": {},
   "source": [
    "### Common Use Cases\n",
    "- Calculating running totals\n",
    "- Financial calculations (cumulative returns)\n",
    "- Signal processing\n",
    "- Probability distributions (cumulative distribution functions)\n",
    "- Time series analysis\n",
    "- The cumsum operation is particularly useful when you need to understand how values accumulate over time or across dimensions in your data."
   ]
  },
  {
   "cell_type": "markdown",
   "id": "31cee2be-cf70-4a52-ba9f-f49b7cdf8b65",
   "metadata": {},
   "source": [
    "## Logarithmic Functions\n",
    "\n",
    "NumPy provides three main logarithmic functions that are essential for scientific computing and data analysis"
   ]
  },
  {
   "cell_type": "markdown",
   "id": "762405d3-5270-4a75-91a9-ed1ebdfca68d",
   "metadata": {},
   "source": [
    "### np.log() - Natural Logarithm (base *e*)\n",
    "\n",
    "Computes the natural logarithm (ln) of each element in the array."
   ]
  },
  {
   "cell_type": "code",
   "execution_count": 9,
   "id": "21fcebd5-c6c9-4370-9f93-1a1e52db2d7d",
   "metadata": {},
   "outputs": [
    {
     "name": "stdout",
     "output_type": "stream",
     "text": [
      "[0. 1. 2. 3.]\n"
     ]
    }
   ],
   "source": [
    "import numpy as np\n",
    "\n",
    "arr = np.array([1, np.e, np.e**2, np.e**3])\n",
    "result = np.log(arr)\n",
    "print(result)  # Output: [0., 1., 2., 3.] (because ln(eⁿ) = n)"
   ]
  },
  {
   "cell_type": "markdown",
   "id": "80741bbe-7273-4090-80f3-19d1835b6168",
   "metadata": {},
   "source": [
    "### np.log2() - Base-2 Logarithm\n",
    "\n",
    "Computes the binary logarithm (log₂) of each element."
   ]
  },
  {
   "cell_type": "code",
   "execution_count": 10,
   "id": "8d86f8e4-62ed-4da2-b32d-f5d553347b1c",
   "metadata": {},
   "outputs": [
    {
     "name": "stdout",
     "output_type": "stream",
     "text": [
      "[0. 1. 2. 3. 4.]\n"
     ]
    }
   ],
   "source": [
    "import numpy as np\n",
    "\n",
    "arr = np.array([1, 2, 4, 8, 16])\n",
    "result = np.log2(arr)\n",
    "print(result)  # Output: [0., 1., 2., 3., 4.] (because log₂(2ⁿ) = n)"
   ]
  },
  {
   "cell_type": "markdown",
   "id": "ec306c1d-2bfa-4073-8d43-dca524a8d274",
   "metadata": {},
   "source": [
    "### np.log10() - Base-10 Logarithm\n",
    "\n",
    "Computes the common logarithm (log₁₀) of each element."
   ]
  },
  {
   "cell_type": "code",
   "execution_count": 11,
   "id": "4c73c56c-d8ad-4e55-8dce-8498d71415cf",
   "metadata": {},
   "outputs": [
    {
     "name": "stdout",
     "output_type": "stream",
     "text": [
      "[0. 1. 2. 3.]\n"
     ]
    }
   ],
   "source": [
    "import numpy as np\n",
    "\n",
    "arr = np.array([1, 10, 100, 1000])\n",
    "result = np.log10(arr)\n",
    "print(result)  # Output: [0., 1., 2., 3.] (because log₁₀(10ⁿ) = n)"
   ]
  },
  {
   "cell_type": "markdown",
   "id": "d85bd649-962f-4a93-9fc9-5249be51d006",
   "metadata": {},
   "source": [
    "## Greatest Common Divisor (GCD)\n",
    "\n",
    "Computes the GCD of all elements in an array."
   ]
  },
  {
   "cell_type": "code",
   "execution_count": 12,
   "id": "d783bdc1-cf58-4730-864d-3a57fda9efc2",
   "metadata": {},
   "outputs": [
    {
     "name": "stdout",
     "output_type": "stream",
     "text": [
      "12\n"
     ]
    }
   ],
   "source": [
    "import numpy as np\n",
    "\n",
    "arr = np.array([24, 36, 48])\n",
    "result = np.gcd.reduce(arr)\n",
    "print(result)  # Output: 12 (GCD of 24, 36, 48)"
   ]
  },
  {
   "cell_type": "markdown",
   "id": "8410047b-f1a5-40d5-bcbe-2a0d3825f647",
   "metadata": {},
   "source": [
    "- Works on integer arrays.\n",
    "- `reduce` applies the operation cumulatively along the entire array."
   ]
  },
  {
   "cell_type": "markdown",
   "id": "edfb456f-b7db-48ab-8443-42dac7b31884",
   "metadata": {},
   "source": [
    "## Least Common Multiple (LCM)\n",
    "\n",
    "Computes the LCM of all elements in an array"
   ]
  },
  {
   "cell_type": "code",
   "execution_count": 13,
   "id": "d7c41d90-1008-47cb-9cc6-1378839caafc",
   "metadata": {},
   "outputs": [
    {
     "name": "stdout",
     "output_type": "stream",
     "text": [
      "24\n"
     ]
    }
   ],
   "source": [
    "import numpy as np\n",
    "\n",
    "arr = np.array([4, 6, 8])\n",
    "result = np.lcm.reduce(arr)\n",
    "print(result)  # Output: 24 (LCM of 4, 6, 8)"
   ]
  },
  {
   "cell_type": "markdown",
   "id": "ca001b37-790d-46b3-9037-27732204ea35",
   "metadata": {},
   "source": [
    "- Requires NumPy ≥ 1.18.\n",
    "- Also works on integer arrays."
   ]
  },
  {
   "cell_type": "markdown",
   "id": "aeee9816-c76a-4368-9769-5d84645447ef",
   "metadata": {},
   "source": [
    "## Rounding Functions"
   ]
  },
  {
   "cell_type": "markdown",
   "id": "afc70d84-a09d-41be-a05b-60bb079f6f3f",
   "metadata": {},
   "source": [
    "### Ceiling Function\n",
    "\n",
    "Rounds each element up to the nearest integer"
   ]
  },
  {
   "cell_type": "code",
   "execution_count": 16,
   "id": "cfa054aa-47a7-496a-a72d-428185e1d54c",
   "metadata": {},
   "outputs": [
    {
     "name": "stdout",
     "output_type": "stream",
     "text": [
      "[ 4. -1.  4.]\n"
     ]
    }
   ],
   "source": [
    "import numpy as np\n",
    "\n",
    "arr = np.array([3.2, -1.7, 4.0])\n",
    "result = np.ceil(arr)\n",
    "print(result)  # Output: [ 4., -1.,  4.]"
   ]
  },
  {
   "cell_type": "markdown",
   "id": "0fcb2d0e-0d55-4b8d-a312-58a21178730b",
   "metadata": {},
   "source": [
    "- Opposite of `floor()`.\n",
    "- Also returns float by default."
   ]
  },
  {
   "cell_type": "markdown",
   "id": "3cc2bdaa-048f-4f99-b899-92c397b490bc",
   "metadata": {},
   "source": [
    "### Floor Function\n",
    "\n",
    "Rounds each element down to the nearest integer."
   ]
  },
  {
   "cell_type": "code",
   "execution_count": 17,
   "id": "45e19419-8c0c-4fd7-bd7c-2ac77ce2b60b",
   "metadata": {},
   "outputs": [
    {
     "name": "stdout",
     "output_type": "stream",
     "text": [
      "[ 3. -3.  5.]\n"
     ]
    }
   ],
   "source": [
    "import numpy as np\n",
    "\n",
    "arr = np.array([3.7, -2.1, 5.0])\n",
    "result = np.floor(arr)\n",
    "print(result)  # Output: [ 3., -3.,  5.]"
   ]
  },
  {
   "cell_type": "markdown",
   "id": "231918a2-500a-4a40-b3db-69a90a8fd84a",
   "metadata": {},
   "source": [
    "- Works on floating-point numbers.\n",
    "- Returns float type by default (use dtype=int to convert to integers)."
   ]
  },
  {
   "cell_type": "code",
   "execution_count": null,
   "id": "bf99c596-b0a0-4c77-9154-b8d8599fe31c",
   "metadata": {},
   "outputs": [],
   "source": []
  }
 ],
 "metadata": {
  "kernelspec": {
   "display_name": "Python 3 (ipykernel)",
   "language": "python",
   "name": "python3"
  },
  "language_info": {
   "codemirror_mode": {
    "name": "ipython",
    "version": 3
   },
   "file_extension": ".py",
   "mimetype": "text/x-python",
   "name": "python",
   "nbconvert_exporter": "python",
   "pygments_lexer": "ipython3",
   "version": "3.12.5"
  }
 },
 "nbformat": 4,
 "nbformat_minor": 5
}
