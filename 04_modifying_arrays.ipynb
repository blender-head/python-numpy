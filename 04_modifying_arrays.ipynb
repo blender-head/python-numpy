{
 "cells": [
  {
   "cell_type": "markdown",
   "id": "119e04e7-f396-4db1-84f0-07eed6a9dd3a",
   "metadata": {},
   "source": [
    "# Modifying Arrays"
   ]
  },
  {
   "cell_type": "markdown",
   "id": "4cfee7a5-c34b-46c6-85c8-7cebac108232",
   "metadata": {},
   "source": [
    "## Reshaping Arrays\n",
    "\n",
    "Reshaping arrays in NumPy refers to changing the structure (shape) of an array without changing its data. This is a fundamental operation when working with numerical data in Python. Reshaping is particularly important in data science for preparing data for machine learning models, image processing, and linear algebra operations.\n",
    "\n",
    "### Key Concepts\n",
    "- **Shape**: The dimensions of an array (e.g., (3,4) for a 2D array with 3 rows and 4 columns)\n",
    "- **Size**: Total number of elements in the array (product of all dimensions)"
   ]
  },
  {
   "cell_type": "markdown",
   "id": "8d1946ce-f1f8-48de-a126-626254342d65",
   "metadata": {},
   "source": [
    "### reshape() method"
   ]
  },
  {
   "cell_type": "code",
   "execution_count": 3,
   "id": "76bc6d5e-1901-4556-8bf0-e65f541bbcc9",
   "metadata": {},
   "outputs": [
    {
     "name": "stdout",
     "output_type": "stream",
     "text": [
      "[ 0  1  2  3  4  5  6  7  8  9 10 11]\n",
      "[[ 0  1  2  3]\n",
      " [ 4  5  6  7]\n",
      " [ 8  9 10 11]]\n"
     ]
    }
   ],
   "source": [
    "import numpy as np\n",
    "\n",
    "arr = np.arange(12)  # 1D array with 12 elements\n",
    "print(arr)\n",
    "reshaped = arr.reshape(3, 4)  # Convert to 3x4 array\n",
    "print(reshaped)"
   ]
  },
  {
   "cell_type": "markdown",
   "id": "48b35830-64c1-45cb-82b3-b3daa1194f20",
   "metadata": {},
   "source": [
    "### Reshaping with -1"
   ]
  },
  {
   "cell_type": "code",
   "execution_count": 4,
   "id": "76219b3b-a8d6-4a8e-afb5-fc74072a91d3",
   "metadata": {},
   "outputs": [
    {
     "name": "stdout",
     "output_type": "stream",
     "text": [
      "[ 0  1  2  3  4  5  6  7  8  9 10 11 12 13 14 15 16 17 18 19 20 21 22 23]\n",
      "[[[ 0  1  2  3]\n",
      "  [ 4  5  6  7]\n",
      "  [ 8  9 10 11]]\n",
      "\n",
      " [[12 13 14 15]\n",
      "  [16 17 18 19]\n",
      "  [20 21 22 23]]]\n"
     ]
    }
   ],
   "source": [
    "import numpy as np\n",
    "\n",
    "arr = np.arange(24)\n",
    "print(arr)\n",
    "reshaped = arr.reshape(2, 3, -1)  # Results in 2x3x4 array\n",
    "print(reshaped)"
   ]
  },
  {
   "cell_type": "markdown",
   "id": "b86bc3f5-ece6-4962-b0b6-1f6582646130",
   "metadata": {},
   "source": [
    "## Flatten An Array\n",
    "\n",
    "Convert multi-dimensional arrays to 1D"
   ]
  },
  {
   "cell_type": "code",
   "execution_count": 5,
   "id": "77676d5c-9e87-4fe9-a61e-9582ec262bcc",
   "metadata": {},
   "outputs": [
    {
     "name": "stdout",
     "output_type": "stream",
     "text": [
      "[[1 2]\n",
      " [3 4]]\n",
      "[1 2 3 4]\n"
     ]
    }
   ],
   "source": [
    "import numpy as np\n",
    "\n",
    "arr_2d = np.array([[1, 2], [3, 4]])\n",
    "print(arr_2d)\n",
    "flat = arr_2d.flatten()\n",
    "print(flat)"
   ]
  },
  {
   "cell_type": "markdown",
   "id": "463ef5ef-397a-47f8-bf13-b7b8a0ff75c9",
   "metadata": {},
   "source": [
    "## Resizing Array\n",
    "\n",
    "The resize() function in NumPy is used to change the size (total number of elements) of an array, unlike reshape() which only changes the shape while keeping the size constant.\n",
    "\n",
    "### Key Features of resize()\n",
    "- Can change the total number of elements (unlike reshape)\n",
    "- Can either return a new array or modify the original (depending on which version you use)\n",
    "- Handles size changes by repeating elements or padding with zeros when needed"
   ]
  },
  {
   "cell_type": "markdown",
   "id": "528594e9-96c9-44be-a2d1-0c0714bb0252",
   "metadata": {},
   "source": [
    "### np.resize(array, new_shape)\n",
    "\n",
    "- Returns a new array with the specified shape\n",
    "- If new size is larger, the original data is repeated\n",
    "- If new size is smaller, the array is truncated"
   ]
  },
  {
   "cell_type": "code",
   "execution_count": 7,
   "id": "72b32eda-4574-45cf-8225-decf908903e5",
   "metadata": {},
   "outputs": [
    {
     "name": "stdout",
     "output_type": "stream",
     "text": [
      "[1 2 3 4]\n",
      "[1 2 3 4 1 2 3 4]\n",
      "[1 2 3]\n"
     ]
    }
   ],
   "source": [
    "import numpy as np\n",
    "\n",
    "arr = np.array([1, 2, 3, 4])\n",
    "print(arr)\n",
    "\n",
    "# Larger array - elements are repeated\n",
    "larger = np.resize(arr, (8,))  # Returns array([1, 2, 3, 4, 1, 2, 3, 4])\n",
    "print(larger)\n",
    "\n",
    "# Smaller array - elements are truncated\n",
    "smaller = np.resize(arr, (3,))  # Returns array([1, 2, 3])\n",
    "print(smaller)"
   ]
  },
  {
   "cell_type": "markdown",
   "id": "b03f677f-c04c-43be-8f15-4b8507996be7",
   "metadata": {},
   "source": [
    "### ndarray.resize(new_shape, refcheck=True)\n",
    "\n",
    "- Modifies the array in-place\n",
    "- If new size is larger, pads with zeros (not repeating elements)\n",
    "- Requires the array to be the sole owner of its memory (no views)"
   ]
  },
  {
   "cell_type": "code",
   "execution_count": 9,
   "id": "cdb873b2-dc13-4fe8-961e-dd1f52bf438a",
   "metadata": {},
   "outputs": [
    {
     "name": "stdout",
     "output_type": "stream",
     "text": [
      "[1 2 3 4]\n",
      "[1 2 3 4 0 0]\n"
     ]
    }
   ],
   "source": [
    "import numpy as np\n",
    "\n",
    "arr = np.array([1, 2, 3, 4])\n",
    "print(arr)\n",
    "arr.resize((6,))  # Now array([1, 2, 3, 4, 0, 0])\n",
    "print(arr)"
   ]
  },
  {
   "cell_type": "markdown",
   "id": "867d09a6-571e-4dc6-82be-d8f437c2f61e",
   "metadata": {},
   "source": [
    "## Transpose Array\n",
    "\n",
    "The transpose operation in NumPy is a fundamental array manipulation that rearranges the dimensions of an array, effectively flipping it over its diagonal. This operation is particularly important in linear algebra, data science, and machine learning.\n",
    "\n",
    "### Common Use Cases\n",
    "- Preparing matrices for linear algebra operations\n",
    "- Reorienting image data (height ↔ width)\n",
    "- Converting between row-major and column-major formats\n",
    "- Reshaping data for machine learning models"
   ]
  },
  {
   "cell_type": "markdown",
   "id": "3ca19abb-498b-4451-b514-497736f163e5",
   "metadata": {},
   "source": [
    "### ndarray.T attribute\n",
    "The simplest way to transpose a NumPy array"
   ]
  },
  {
   "cell_type": "code",
   "execution_count": 10,
   "id": "aca01a68-55b8-4ab3-b5d3-9468dc4a62e7",
   "metadata": {},
   "outputs": [
    {
     "name": "stdout",
     "output_type": "stream",
     "text": [
      "[[1 4]\n",
      " [2 5]\n",
      " [3 6]]\n"
     ]
    }
   ],
   "source": [
    "import numpy as np\n",
    "\n",
    "arr = np.array([[1, 2, 3],\n",
    "                [4, 5, 6]])\n",
    "\n",
    "print(arr.T)\n",
    "# Output:\n",
    "# array([[1, 4],\n",
    "#        [2, 5],\n",
    "#        [3, 6]])"
   ]
  },
  {
   "cell_type": "markdown",
   "id": "da4f3f3c-2e1d-4cd0-a0ef-09811897566a",
   "metadata": {},
   "source": [
    "### np.transpose() function\n",
    "More flexible version that can handle multi-dimensional arrays"
   ]
  },
  {
   "cell_type": "code",
   "execution_count": 12,
   "id": "0e7fee20-5d7a-4cc0-973c-7544c3ff0943",
   "metadata": {},
   "outputs": [
    {
     "name": "stdout",
     "output_type": "stream",
     "text": [
      "[[1 4]\n",
      " [2 5]\n",
      " [3 6]]\n"
     ]
    }
   ],
   "source": [
    "import numpy as np\n",
    "\n",
    "arr = np.array([[1, 2, 3],\n",
    "                [4, 5, 6]])\n",
    "\n",
    "transposed = np.transpose(arr)\n",
    "\n",
    "print(transposed)"
   ]
  },
  {
   "cell_type": "markdown",
   "id": "873e5225-093e-446f-9ac3-0f98447231bb",
   "metadata": {},
   "source": [
    "### Advanced Usage"
   ]
  },
  {
   "cell_type": "markdown",
   "id": "4c1fe8cf-3f01-4147-bfbb-bb8eaf97fae4",
   "metadata": {},
   "source": [
    "#### Specifying axis order (for multi-dimensional arrays)"
   ]
  },
  {
   "cell_type": "code",
   "execution_count": 13,
   "id": "1261664d-599e-4d2b-af45-28570a6357be",
   "metadata": {},
   "outputs": [
    {
     "name": "stdout",
     "output_type": "stream",
     "text": [
      "(4, 3, 2)\n",
      "(3, 2, 4)\n"
     ]
    }
   ],
   "source": [
    "import numpy as np\n",
    "\n",
    "arr_3d = np.arange(24).reshape(2, 3, 4)\n",
    "\n",
    "# Default transpose (reverse dimensions)\n",
    "print(np.transpose(arr_3d).shape)  # (4, 3, 2)\n",
    "\n",
    "# Custom axis order\n",
    "print(np.transpose(arr_3d, axes=(1, 0, 2)).shape)  # (3, 2, 4)"
   ]
  },
  {
   "cell_type": "markdown",
   "id": "391fc719-bad1-4562-89b4-5d9909fa906c",
   "metadata": {},
   "source": [
    "#### Matrix multiplication with transpose"
   ]
  },
  {
   "cell_type": "code",
   "execution_count": 15,
   "id": "a00af509-97a1-4205-b4c3-5f8789bceacc",
   "metadata": {},
   "outputs": [
    {
     "name": "stdout",
     "output_type": "stream",
     "text": [
      "[[1.16182657 1.3000808  0.88022423 0.79206718 0.8083093 ]\n",
      " [0.45753778 0.47466875 0.37325321 0.33589181 0.40693119]\n",
      " [0.86837363 0.86914081 0.4208507  0.86931373 0.74313222]]\n"
     ]
    }
   ],
   "source": [
    "import numpy as np\n",
    "\n",
    "A = np.random.rand(3, 4)\n",
    "B = np.random.rand(5, 4)\n",
    "\n",
    "# Matrix multiplication: A (3×4) × B.T (4×5) → (3×5)\n",
    "result = np.dot(A, B.T)\n",
    "print(result)"
   ]
  },
  {
   "cell_type": "markdown",
   "id": "0e9bd709-bc15-4d57-ba40-165ec07560a0",
   "metadata": {},
   "source": [
    "## swapaxes\n",
    "The swapaxes function in NumPy is used to interchange two axes of an array. It's a more flexible operation than transpose when you only want to swap specific dimensions of a multi-dimensional array.\n",
    "\n",
    "### Basic Syntax\n",
    "```\n",
    "numpy.swapaxes(a, axis1, axis2)\n",
    "```\n",
    "\n",
    "Where:\n",
    "- a: Input array\n",
    "- axis1: First axis to swap\n",
    "- axis2: Second axis to swap\n",
    "\n",
    "### Key Characteristics\n",
    "- Returns a view (not a copy) of the array whenever possible\n",
    "- Doesn't change the data - only rearranges how it's indexed\n",
    "- Works with arrays of any dimension (≥ 2)\n",
    "- More targeted than transpose - only swaps specified axes\n",
    "\n",
    "### Common Use Cases\n",
    "- **Image processing**: Swapping color channels (RGB → BGR)\n",
    "- **Time series data**: Swapping time and feature dimensions\n",
    "- **Neural networks**: Adjusting input dimensions for different frameworks\n",
    "- **Tensor operations**: Preparing tensors for specific mathematical operations"
   ]
  },
  {
   "cell_type": "markdown",
   "id": "8fb066b3-7170-42ff-8057-a87e5e5f6a66",
   "metadata": {},
   "source": [
    "### 2D Array (Same as Transpose)"
   ]
  },
  {
   "cell_type": "code",
   "execution_count": 17,
   "id": "5a9cd8be-9dfe-4bdd-94a9-48dcaf5cf535",
   "metadata": {},
   "outputs": [
    {
     "name": "stdout",
     "output_type": "stream",
     "text": [
      "[[1 4]\n",
      " [2 5]\n",
      " [3 6]]\n"
     ]
    }
   ],
   "source": [
    "import numpy as np\n",
    "\n",
    "arr = np.array([[1, 2, 3],\n",
    "                [4, 5, 6]])\n",
    "\n",
    "swapped = np.swapaxes(arr, 0, 1)\n",
    "# Equivalent to arr.T\n",
    "# Result:\n",
    "# array([[1, 4],\n",
    "#        [2, 5],\n",
    "#        [3, 6]])\n",
    "print(swapped)"
   ]
  },
  {
   "cell_type": "markdown",
   "id": "5fd58889-217c-47df-bd95-8b6178a92dad",
   "metadata": {},
   "source": [
    "### 3D Array"
   ]
  },
  {
   "cell_type": "code",
   "execution_count": 18,
   "id": "ebc79fe2-2bd1-40a6-bf94-d2276820d028",
   "metadata": {},
   "outputs": [
    {
     "name": "stdout",
     "output_type": "stream",
     "text": [
      "(4, 3, 2)\n"
     ]
    }
   ],
   "source": [
    "import numpy as np\n",
    "\n",
    "arr_3d = np.arange(24).reshape(2, 3, 4)\n",
    "\n",
    "# Swap height and depth (axes 0 and 2)\n",
    "swapped = np.swapaxes(arr_3d, 0, 2)\n",
    "print(swapped.shape)  # (4, 3, 2)"
   ]
  },
  {
   "cell_type": "markdown",
   "id": "616022e9-931c-463b-bc7a-bbbe42652169",
   "metadata": {},
   "source": [
    "### 4D Array"
   ]
  },
  {
   "cell_type": "code",
   "execution_count": 19,
   "id": "fb43704c-0980-41df-a870-67d3bd412224",
   "metadata": {},
   "outputs": [
    {
     "name": "stdout",
     "output_type": "stream",
     "text": [
      "(2, 4, 3, 5)\n"
     ]
    }
   ],
   "source": [
    "import numpy as np\n",
    "\n",
    "arr_4d = np.random.rand(2, 3, 4, 5)\n",
    "\n",
    "# Swap second and third dimensions\n",
    "swapped = np.swapaxes(arr_4d, 1, 2)\n",
    "print(swapped.shape)  # (2, 4, 3, 5)"
   ]
  },
  {
   "cell_type": "code",
   "execution_count": null,
   "id": "b9a690a7-3f7a-48b2-851f-e539a195261a",
   "metadata": {},
   "outputs": [],
   "source": []
  }
 ],
 "metadata": {
  "kernelspec": {
   "display_name": "Python 3 (ipykernel)",
   "language": "python",
   "name": "python3"
  },
  "language_info": {
   "codemirror_mode": {
    "name": "ipython",
    "version": 3
   },
   "file_extension": ".py",
   "mimetype": "text/x-python",
   "name": "python",
   "nbconvert_exporter": "python",
   "pygments_lexer": "ipython3",
   "version": "3.12.5"
  }
 },
 "nbformat": 4,
 "nbformat_minor": 5
}
