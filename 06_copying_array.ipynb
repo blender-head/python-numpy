{
 "cells": [
  {
   "cell_type": "markdown",
   "id": "ad109591-d0aa-40fc-af33-92939d419e11",
   "metadata": {},
   "source": [
    "# Copying Arrays\n",
    "\n",
    "In NumPy, you can copy an array using the copy() method or the np.copy() function. This creates a deep copy, meaning the new array is independent of the original (modifying one does not affect the other)."
   ]
  },
  {
   "cell_type": "markdown",
   "id": "d1e0a846-2989-4e74-a0eb-440ce22b52b9",
   "metadata": {},
   "source": [
    "## Using copy() method"
   ]
  },
  {
   "cell_type": "code",
   "execution_count": 1,
   "id": "9eb4d705-493a-4fa6-94dc-02122fc4c758",
   "metadata": {},
   "outputs": [
    {
     "name": "stdout",
     "output_type": "stream",
     "text": [
      "Original: [1 2 3 4]\n",
      "Copied: [99  2  3  4]\n"
     ]
    }
   ],
   "source": [
    "import numpy as np\n",
    "\n",
    "original_array = np.array([1, 2, 3, 4])\n",
    "copied_array = original_array.copy()\n",
    "\n",
    "# Modify the copied array (original remains unchanged)\n",
    "copied_array[0] = 99\n",
    "\n",
    "print(\"Original:\", original_array)  # Output: [1 2 3 4]\n",
    "print(\"Copied:\", copied_array)      # Output: [99 2 3 4]"
   ]
  },
  {
   "cell_type": "markdown",
   "id": "51718be2-4104-4010-a2c4-f4a60737e052",
   "metadata": {},
   "source": [
    "## Using np.copy() function"
   ]
  },
  {
   "cell_type": "code",
   "execution_count": 2,
   "id": "c826aa61-1063-4a58-b0b5-2f94663e8775",
   "metadata": {},
   "outputs": [
    {
     "name": "stdout",
     "output_type": "stream",
     "text": [
      "Original: [5 6 7 8]\n",
      "Copied: [  5 100   7   8]\n"
     ]
    }
   ],
   "source": [
    "import numpy as np\n",
    "\n",
    "original_array = np.array([5, 6, 7, 8])\n",
    "copied_array = np.copy(original_array)\n",
    "\n",
    "# Modify the copied array\n",
    "copied_array[1] = 100\n",
    "\n",
    "print(\"Original:\", original_array)  # Output: [5 6 7 8]\n",
    "print(\"Copied:\", copied_array)      # Output: [5 100 7 8]"
   ]
  },
  {
   "cell_type": "markdown",
   "id": "f30cb572-3a4e-458d-a20c-1c8345c1ea44",
   "metadata": {},
   "source": [
    "## Important Notes"
   ]
  },
  {
   "cell_type": "markdown",
   "id": "07b9fc97-60b8-46f9-8f24-aeabca2cf110",
   "metadata": {},
   "source": [
    "### Avoid arr2 = arr1 (shallow copy)\n",
    "\n",
    "This does not create a new array; instead, it creates a reference to the original array. Changes in one affect the other."
   ]
  },
  {
   "cell_type": "code",
   "execution_count": 3,
   "id": "557f9b6f-164b-4dba-bfcc-1d2a65be6e88",
   "metadata": {},
   "outputs": [
    {
     "name": "stdout",
     "output_type": "stream",
     "text": [
      "[99  2  3]\n"
     ]
    }
   ],
   "source": [
    "import numpy as np\n",
    "\n",
    "arr1 = np.array([1, 2, 3])\n",
    "arr2 = arr1  # Shallow copy (not recommended for independent copies)\n",
    "arr2[0] = 99\n",
    "print(arr1)  # Output: [99 2 3] (original is modified!)"
   ]
  },
  {
   "cell_type": "markdown",
   "id": "9b04076f-5835-4198-a902-f070a708916c",
   "metadata": {},
   "source": [
    "### For views (slicing), use copy()\n",
    "\n",
    "Slicing (`arr_slice = arr[1:3]`) creates a view, not a copy. Modifying the slice affects the original. Use `copy()` to avoid this"
   ]
  },
  {
   "cell_type": "code",
   "execution_count": 4,
   "id": "87b116da-c3c8-472c-b23c-80d5cd5fba39",
   "metadata": {},
   "outputs": [],
   "source": [
    "import numpy as np\n",
    "\n",
    "arr = np.array([1, 2, 3, 4])\n",
    "slice_view = arr[1:3]  # View (not a copy)\n",
    "slice_copy = arr[1:3].copy()  # Independent copy"
   ]
  },
  {
   "cell_type": "markdown",
   "id": "3f4308aa-21c0-4647-88fb-c453680fa090",
   "metadata": {},
   "source": [
    "## Summary\n",
    "\n",
    "<table style=\"float: left;\">\n",
    "    <tr>\n",
    "        <td>Method</td>\n",
    "        <td>Behavior</td>\n",
    "    </tr>\n",
    "    <tr>\n",
    "        <td>arr.copy()</td>\n",
    "        <td>Deep copy (independent)</td>\n",
    "    </tr>\n",
    "    <tr>\n",
    "        <td>np.copy(arr)</td>\n",
    "        <td>Deep copy (independent)</td>\n",
    "    </tr>\n",
    "    <tr>\n",
    "        <td>arr2 = arr1</td>\n",
    "        <td>Shallow copy (shared memory)</td>\n",
    "    </tr>\n",
    "    <tr>\n",
    "        <td>arr2 = arr1</td>\n",
    "        <td>Shallow copy (shared memory)</td>\n",
    "    </tr>\n",
    "    <tr>\n",
    "        <td>arr[1:3]</td>\n",
    "        <td>View (shared memory)</td>\n",
    "    </tr>\n",
    "</table>"
   ]
  },
  {
   "cell_type": "markdown",
   "id": "f039ddfb-55e8-4c88-850f-8ebbd6089fa7",
   "metadata": {},
   "source": [
    "Use `.copy()` when you need a completely independent duplicate of the array. 🚀"
   ]
  },
  {
   "cell_type": "code",
   "execution_count": null,
   "id": "23e95481-135c-48c4-b907-b49cf3b8cf19",
   "metadata": {},
   "outputs": [],
   "source": []
  }
 ],
 "metadata": {
  "kernelspec": {
   "display_name": "Python 3 (ipykernel)",
   "language": "python",
   "name": "python3"
  },
  "language_info": {
   "codemirror_mode": {
    "name": "ipython",
    "version": 3
   },
   "file_extension": ".py",
   "mimetype": "text/x-python",
   "name": "python",
   "nbconvert_exporter": "python",
   "pygments_lexer": "ipython3",
   "version": "3.12.5"
  }
 },
 "nbformat": 4,
 "nbformat_minor": 5
}
