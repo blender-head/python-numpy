{
 "cells": [
  {
   "cell_type": "markdown",
   "id": "35769161-012b-4f26-8744-3132bd7cbef4",
   "metadata": {},
   "source": [
    "# Saving & Loading NumPy Objects"
   ]
  },
  {
   "cell_type": "code",
   "execution_count": 2,
   "id": "635380ca-5727-4285-bff7-aae1ab49e351",
   "metadata": {},
   "outputs": [
    {
     "data": {
      "text/plain": [
       "array([[1., 2.],\n",
       "       [3., 4.]])"
      ]
     },
     "execution_count": 2,
     "metadata": {},
     "output_type": "execute_result"
    }
   ],
   "source": [
    "import numpy as np\n",
    "\n",
    "arr_15 = np.array([[1, 2], [3, 4]])\n",
    "# Save as randarray.npy\n",
    "np.save('randarray', arr_15)\n",
    "# Load saved array \n",
    "arr_16 = np.load('randarray.npy')\n",
    "arr_16\n",
    "\n",
    "# Save as a CSV \n",
    "np.savetxt('randcsv.csv', arr_15)\n",
    "# Load CSV\n",
    "arr_17 = np.loadtxt('randcsv.csv')\n",
    "arr_17"
   ]
  },
  {
   "cell_type": "code",
   "execution_count": null,
   "id": "a3400214-63af-496b-8da0-a0a79fde4345",
   "metadata": {},
   "outputs": [],
   "source": []
  }
 ],
 "metadata": {
  "kernelspec": {
   "display_name": "Python 3 (ipykernel)",
   "language": "python",
   "name": "python3"
  },
  "language_info": {
   "codemirror_mode": {
    "name": "ipython",
    "version": 3
   },
   "file_extension": ".py",
   "mimetype": "text/x-python",
   "name": "python",
   "nbconvert_exporter": "python",
   "pygments_lexer": "ipython3",
   "version": "3.12.5"
  }
 },
 "nbformat": 4,
 "nbformat_minor": 5
}
