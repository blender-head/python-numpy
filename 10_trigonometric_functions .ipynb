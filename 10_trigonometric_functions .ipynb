{
 "cells": [
  {
   "cell_type": "markdown",
   "id": "97e8577e-b8ad-48bd-a563-7b9db3fe49b0",
   "metadata": {},
   "source": [
    "# Trigonometric Functions "
   ]
  },
  {
   "cell_type": "markdown",
   "id": "1c030e9d-241c-4194-8371-3d5a8c50e331",
   "metadata": {},
   "source": [
    "Trigonometry is a branch of mathematics that studies the relationships between the angles and sides of triangles, particularly right-angled triangles. The word \"trigonometry\" comes from the Greek words trigonon (triangle) and metron (measure)"
   ]
  },
  {
   "cell_type": "markdown",
   "id": "52124345-d6b1-400c-8d0e-ded215cb51e5",
   "metadata": {},
   "source": [
    "In NumPy, trigonometric functions are mathematical functions that operate on angles (given in radians) and return the corresponding trigonometric values. These functions are part of the numpy module and are widely used in scientific computing, signal processing, and geometry."
   ]
  },
  {
   "cell_type": "markdown",
   "id": "a2379566-d7fe-4880-a821-2d6099543c31",
   "metadata": {},
   "source": [
    "## Basic Trigonometric Functions"
   ]
  },
  {
   "cell_type": "markdown",
   "id": "9ba1db27-181c-4ce9-b4d5-840800865058",
   "metadata": {},
   "source": [
    "### Sine Function\n",
    "\n",
    "Computes the sine of an angle (in radians)."
   ]
  },
  {
   "cell_type": "code",
   "execution_count": 1,
   "id": "3bcb6930-d63e-4b85-b519-b2b4af5dbcc5",
   "metadata": {},
   "outputs": [
    {
     "name": "stdout",
     "output_type": "stream",
     "text": [
      "1.0\n"
     ]
    }
   ],
   "source": [
    "import numpy as np\n",
    "x = np.pi/2  # 90 degrees in radians\n",
    "print(np.sin(x))  # Output: 1.0"
   ]
  },
  {
   "cell_type": "markdown",
   "id": "49918a25-01ef-4f10-9991-b7fa01c4bef2",
   "metadata": {},
   "source": [
    "### Cosine Function\n",
    "Computes the cosine of an angle (in radians)."
   ]
  },
  {
   "cell_type": "code",
   "execution_count": 2,
   "id": "af36a2a0-5db4-4cc6-8929-2f029ce3aff1",
   "metadata": {},
   "outputs": [
    {
     "name": "stdout",
     "output_type": "stream",
     "text": [
      "-1.0\n"
     ]
    }
   ],
   "source": [
    "import numpy as np\n",
    "\n",
    "print(np.cos(np.pi))  # Output: -1.0"
   ]
  },
  {
   "cell_type": "markdown",
   "id": "6eb64071-499a-4fab-a62a-f547f865b2f3",
   "metadata": {},
   "source": [
    "### Tangent Function\n",
    "\n",
    "Computes the tangent of an angle (in radians)."
   ]
  },
  {
   "cell_type": "code",
   "execution_count": 3,
   "id": "e4c26653-2b68-430f-994b-d8c5dea267ee",
   "metadata": {},
   "outputs": [
    {
     "name": "stdout",
     "output_type": "stream",
     "text": [
      "0.9999999999999999\n"
     ]
    }
   ],
   "source": [
    "import numpy as np\n",
    "print(np.tan(np.pi/4))  # Output: ~1.0 (approximately)"
   ]
  },
  {
   "cell_type": "markdown",
   "id": "9920bfd7-a259-4d07-b991-2d7a7458f3ef",
   "metadata": {},
   "source": [
    "## Inverse Trigonometric Functions"
   ]
  },
  {
   "cell_type": "markdown",
   "id": "39b2ae78-840b-460c-a404-7de63c85b007",
   "metadata": {},
   "source": [
    "### Arcsine (Inverse Sine)\n",
    "Returns the angle whose sine is x (range: [-π/2, π/2])"
   ]
  },
  {
   "cell_type": "code",
   "execution_count": 4,
   "id": "22e700e8-40c5-4642-90cf-ea900fdd2045",
   "metadata": {},
   "outputs": [
    {
     "name": "stdout",
     "output_type": "stream",
     "text": [
      "1.5707963267948966\n"
     ]
    }
   ],
   "source": [
    "import numpy as np\n",
    "\n",
    "print(np.arcsin(1.0))  # Output: 1.570796 (π/2)"
   ]
  },
  {
   "cell_type": "markdown",
   "id": "1cce33a6-376f-4d2a-b509-0de320db22db",
   "metadata": {},
   "source": [
    "### Arccosine (Inverse Cosine)\n",
    "\n",
    "Returns the angle whose cosine is x (range: [0, π])."
   ]
  },
  {
   "cell_type": "code",
   "execution_count": 5,
   "id": "ea51209e-cdc5-48c4-b9b1-df772df5e485",
   "metadata": {},
   "outputs": [
    {
     "name": "stdout",
     "output_type": "stream",
     "text": [
      "1.0471975511965979\n"
     ]
    }
   ],
   "source": [
    "import numpy as np\n",
    "\n",
    "print(np.arccos(0.5))  # Output: 1.047198 (~π/3)"
   ]
  },
  {
   "cell_type": "markdown",
   "id": "186fec50-a253-4f3f-a427-10795a64bec0",
   "metadata": {},
   "source": [
    "### Arctangent (Inverse Tangent) \n",
    "\n",
    "Returns the angle whose tangent is x (range: [-π/2, π/2])."
   ]
  },
  {
   "cell_type": "code",
   "execution_count": 6,
   "id": "5f642706-8050-4295-a134-03c23ced0c44",
   "metadata": {},
   "outputs": [
    {
     "name": "stdout",
     "output_type": "stream",
     "text": [
      "0.7853981633974483\n"
     ]
    }
   ],
   "source": [
    "import numpy as np\n",
    "\n",
    "print(np.arctan(1.0))  # Output: 0.785398 (~π/4)"
   ]
  },
  {
   "cell_type": "markdown",
   "id": "6798b670-e45d-49c8-81af-5142fe224738",
   "metadata": {},
   "source": [
    "### Arctangent of y/x (2-argument arctan)\n",
    "Computes the angle in the correct quadrant based on signs of x and y."
   ]
  },
  {
   "cell_type": "code",
   "execution_count": 7,
   "id": "31fffcef-5547-43fc-8d24-8c8b4091862b",
   "metadata": {},
   "outputs": [
    {
     "name": "stdout",
     "output_type": "stream",
     "text": [
      "0.7853981633974483\n"
     ]
    }
   ],
   "source": [
    "import numpy as np\n",
    "\n",
    "print(np.arctan2(1, 1))  # Output: 0.785398 (~π/4)"
   ]
  },
  {
   "cell_type": "markdown",
   "id": "b8129216-c79e-4816-b025-8c648134a35d",
   "metadata": {},
   "source": [
    "## Hyperbolic Trigonometric Functions"
   ]
  },
  {
   "cell_type": "markdown",
   "id": "cba25363-124b-429a-8537-144899abf418",
   "metadata": {},
   "source": [
    "### Hyperbolic Sine"
   ]
  },
  {
   "cell_type": "code",
   "execution_count": 8,
   "id": "d6a8341b-2a50-4b6a-926d-d67843000318",
   "metadata": {},
   "outputs": [
    {
     "name": "stdout",
     "output_type": "stream",
     "text": [
      "0.0\n"
     ]
    }
   ],
   "source": [
    "import numpy as np\n",
    "\n",
    "print(np.sinh(0))  # Output: 0.0"
   ]
  },
  {
   "cell_type": "markdown",
   "id": "f48763c3-9727-490f-9a58-7f5e05d5d2c9",
   "metadata": {},
   "source": [
    "### Hyperbolic Cosine"
   ]
  },
  {
   "cell_type": "code",
   "execution_count": 9,
   "id": "6ccd29f3-f074-4cae-8190-ec924703aef9",
   "metadata": {},
   "outputs": [
    {
     "name": "stdout",
     "output_type": "stream",
     "text": [
      "1.0\n"
     ]
    }
   ],
   "source": [
    "import numpy as np\n",
    "\n",
    "print(np.cosh(0))  # Output: 1.0"
   ]
  },
  {
   "cell_type": "markdown",
   "id": "20cb4dcc-0eda-4371-a0b0-35228b1490f7",
   "metadata": {},
   "source": [
    "### Hyperbolic Tangent"
   ]
  },
  {
   "cell_type": "code",
   "execution_count": 10,
   "id": "ec9f77f5-f659-4e4f-a863-6dc349183005",
   "metadata": {},
   "outputs": [
    {
     "name": "stdout",
     "output_type": "stream",
     "text": [
      "0.0\n"
     ]
    }
   ],
   "source": [
    "import numpy as np\n",
    "\n",
    "print(np.tanh(0))  # Output: 0.0"
   ]
  },
  {
   "cell_type": "markdown",
   "id": "a79f4b38-955e-4a03-93fc-fc2dd57233c7",
   "metadata": {},
   "source": [
    "## Angle Conversion Functions"
   ]
  },
  {
   "cell_type": "markdown",
   "id": "82fc20d3-6506-4022-bdaf-f2c602643e2b",
   "metadata": {},
   "source": [
    "### Degrees to Radians"
   ]
  },
  {
   "cell_type": "code",
   "execution_count": 11,
   "id": "9535bb14-9161-45cc-813c-a76a1e4a4659",
   "metadata": {},
   "outputs": [
    {
     "name": "stdout",
     "output_type": "stream",
     "text": [
      "3.141592653589793\n"
     ]
    }
   ],
   "source": [
    "import numpy as np\n",
    "\n",
    "print(np.deg2rad(180))  # Output: 3.141593 (π)"
   ]
  },
  {
   "cell_type": "markdown",
   "id": "32dd26cd-0d13-42c5-b0b4-3eaba27116a2",
   "metadata": {},
   "source": [
    "### Radians to Degrees "
   ]
  },
  {
   "cell_type": "code",
   "execution_count": 12,
   "id": "83061200-5074-494e-9a3f-f8af7eec747c",
   "metadata": {},
   "outputs": [
    {
     "name": "stdout",
     "output_type": "stream",
     "text": [
      "180.0\n"
     ]
    }
   ],
   "source": [
    "import numpy as np\n",
    "\n",
    "print(np.rad2deg(np.pi))  # Output: 180.0"
   ]
  },
  {
   "cell_type": "markdown",
   "id": "afc52ccf-3f1c-4182-890e-2a2d14910460",
   "metadata": {},
   "source": [
    "## Key Notes:\n",
    "- NumPy trigonometric functions work with radians, not degrees (use deg2rad for conversion).\n",
    "- They support array operations, meaning you can pass a NumPy array instead of a single value.\n",
    "- For inverse functions, results are returned in radians."
   ]
  },
  {
   "cell_type": "code",
   "execution_count": null,
   "id": "3e34b83d-a9fa-41a0-ad95-de3219cd5de7",
   "metadata": {},
   "outputs": [],
   "source": []
  }
 ],
 "metadata": {
  "kernelspec": {
   "display_name": "Python 3 (ipykernel)",
   "language": "python",
   "name": "python3"
  },
  "language_info": {
   "codemirror_mode": {
    "name": "ipython",
    "version": 3
   },
   "file_extension": ".py",
   "mimetype": "text/x-python",
   "name": "python",
   "nbconvert_exporter": "python",
   "pygments_lexer": "ipython3",
   "version": "3.12.5"
  }
 },
 "nbformat": 4,
 "nbformat_minor": 5
}
