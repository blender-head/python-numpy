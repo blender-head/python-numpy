{
 "cells": [
  {
   "cell_type": "markdown",
   "id": "7e9abec7-af08-4cf6-a2ce-34c3fede2c37",
   "metadata": {},
   "source": [
    "# Matrix Functions"
   ]
  },
  {
   "cell_type": "markdown",
   "id": "a3230034-dca1-4785-96ab-783033580ce1",
   "metadata": {},
   "source": [
    "What are Matrices in Math?\n",
    "A matrix (plural: matrices) is a rectangular array of numbers, symbols, or expressions arranged in rows and columns. Matrices are a fundamental tool in linear algebra and are widely used in mathematics, physics, computer science, engineering, and economics."
   ]
  },
  {
   "cell_type": "markdown",
   "id": "6d4a2aea-9e78-4f38-9250-fb9ccc93ba14",
   "metadata": {},
   "source": [
    "Structure of a Matrix\n",
    "A matrix is written inside square brackets [ ] or parentheses ( ) and has the general form:"
   ]
  },
  {
   "cell_type": "markdown",
   "id": "58b6ad5b-5150-47ff-8b87-487f9a6305b6",
   "metadata": {},
   "source": [
    "![Matrix Form](./images/matrix.png \"Matrix Form\")"
   ]
  },
  {
   "cell_type": "markdown",
   "id": "61a6cc01-e539-44d5-b3a8-b9754eff5a85",
   "metadata": {},
   "source": [
    "- Rows: Horizontal arrays (e.g., [a11,a12,...an] is the first row)."
   ]
  },
  {
   "cell_type": "markdown",
   "id": "b59d02c3-1557-4feb-877e-30f9b0be2398",
   "metadata": {},
   "source": [
    "- Columns: Vertical arrays (e.g., ![Matrix Column](./images/matrix_vert.png \"Matrix Column\") is the first column)."
   ]
  },
  {
   "cell_type": "markdown",
   "id": "6af9eac6-149a-4bf1-86df-ea3c11316825",
   "metadata": {},
   "source": [
    "- Dimensions: An m × n matrix has m rows and n columns."
   ]
  },
  {
   "cell_type": "markdown",
   "id": "6259d3fc-b156-4165-8c26-801ad0094a47",
   "metadata": {},
   "source": [
    "## What Problems Do Matrices Solve?\n",
    "Matrices are used to:\n",
    "\n",
    "1. Solve Systems of Linear Equations\n",
    "    - Represented as Ax = b, where: \n",
    "        - A = coefficient matrix\n",
    "        - x = variable vector\n",
    "        - b = constant vector\n",
    "\n",
    "    - Methods: Gaussian elimination, matrix inversion, Cramer’s rule.\n",
    "\n",
    "2. Perform Linear Transformations (Graphics & Physics)\n",
    "    - Rotations, scaling, and reflections in 2D/3D space.\n",
    "    - Used in computer graphics, robotics, and physics simulations.\n",
    "\n",
    "3. Data Representation (Computer Science & Statistics)\n",
    "    - Storing datasets (e.g., spreadsheet data, image pixels).\n",
    "    - Machine learning: Feature matrices in regression, neural networks.\n",
    "\n",
    "3. Graph Theory & Networks\n",
    "    - Adjacency matrices represent connections in networks (social, transportation).\n",
    "\n",
    "4. Eigenvalues & Eigenvectors (Advanced Applications)\n",
    "    - Used in quantum mechanics, stability analysis, and principal component analysis (PCA)."
   ]
  },
  {
   "cell_type": "markdown",
   "id": "985eb6ae-326f-49bd-a092-ce1f90f9d980",
   "metadata": {},
   "source": [
    "## Common Matrix Operations\n",
    "- Addition/Subtraction: Element-wise (matrices must be same size).\n",
    "- Multiplication: Dot product (rows × columns).\n",
    "- Transpose: Swaps rows and columns.\n",
    "- Inverse: Only for square matrices (if determinant ≠ 0).\n",
    "- Determinant: Scalar value used in solving linear systems."
   ]
  },
  {
   "cell_type": "markdown",
   "id": "3528f50e-c586-42a1-be48-a7232bd0c0ca",
   "metadata": {},
   "source": [
    "NumPy provides a variety of matrix functions for linear algebra operations"
   ]
  },
  {
   "cell_type": "markdown",
   "id": "2dfa438d-3b1e-4398-bc82-9b60353984a2",
   "metadata": {},
   "source": [
    "## Matrix Creation\n",
    "- `numpy.array()` – Creates a matrix from an array-like object.\n",
    "- `numpy.matrix()` – Creates a matrix (less preferred, use ndarray instead).\n",
    "- `numpy.eye()` – Identity matrix.\n",
    "- `numpy.zeros()` – Zero matrix.\n",
    "- `numpy.ones()` – Matrix filled with ones."
   ]
  },
  {
   "cell_type": "code",
   "execution_count": null,
   "id": "e5a96404-596e-49dc-a182-1fa9c7583ef9",
   "metadata": {},
   "outputs": [],
   "source": [
    "import numpy as np\n",
    "\n",
    "A = np.array([[1, 2], [3, 4]])  # 2x2 matrix\n",
    "I = np.eye(3)                   # 3x3 identity matrix\n",
    "Z = np.zeros((2, 3))            # 2x3 zero matrix\n",
    "print(A)\n",
    "print(I)\n",
    "print(Z)"
   ]
  },
  {
   "cell_type": "markdown",
   "id": "a8705476-6b21-466f-8d3b-66de8f030f72",
   "metadata": {},
   "source": [
    "## Matrix Operations\n",
    "- `numpy.dot()` or @ – Matrix multiplication.\n",
    "- `numpy.transpose()` or `.T` – Matrix transpose.\n",
    "- `numpy.linalg.inv()` – Matrix inverse.\n",
    "- `numpy.linalg.det()` – Determinant of a matrix.\n",
    "- `numpy.trace()` – Sum of diagonal elements.\n",
    "- `numpy.linalg.multi_dot` - Computes the dot product of multiple matrices in a single call "
   ]
  },
  {
   "cell_type": "code",
   "execution_count": null,
   "id": "5e13a565-2bf6-48ec-bd35-ab180cbf7438",
   "metadata": {},
   "outputs": [],
   "source": [
    "import numpy as np\n",
    "\n",
    "A = np.array([[1, 2], [3, 4]])\n",
    "B = np.array([[5, 6], [7, 8]])\n",
    "\n",
    "# Matrix multiplication\n",
    "C = np.dot(A, B)  # or A @ B\n",
    "print(\"A @ B =\\n\", C)\n",
    "\n",
    "A = np.random.rand(10, 20)\n",
    "B = np.random.rand(20, 30)\n",
    "C = np.random.rand(30, 40)\n",
    "D = np.random.rand(40, 50)\n",
    "\n",
    "# Equivalent to: A @ B @ C @ D\n",
    "result = np.linalg.multi_dot([A, B, C, D])\n",
    "print(result)\n",
    "\n",
    "# Transpose\n",
    "print(\"Transpose of A =\\n\", A.T)\n",
    "\n",
    "# Inverse\n",
    "A_inv = np.linalg.inv(A)\n",
    "print(\"Inverse of A =\\n\", A_inv)\n",
    "\n",
    "# Determinant\n",
    "det_A = np.linalg.det(A)\n",
    "print(\"Determinant of A =\", det_A)\n",
    "\n",
    "# Trace\n",
    "trace_A = np.trace(A)\n",
    "print(\"Trace of A =\", trace_A)"
   ]
  },
  {
   "cell_type": "markdown",
   "id": "f1c27d99-1825-403d-ad23-91bbbbaff308",
   "metadata": {},
   "source": [
    "## Eigenvalues & Eigenvectors\n",
    "- `numpy.linalg.eig()` – Computes eigenvalues and eigenvectors.\n",
    "- `numpy.linalg.eigvals()` – Computes only eigenvalues."
   ]
  },
  {
   "cell_type": "code",
   "execution_count": null,
   "id": "a7744b79-06f3-4902-be61-900093668c28",
   "metadata": {},
   "outputs": [],
   "source": [
    "import numpy as np\n",
    "\n",
    "A = np.array([[4, 2], [1, 3]])\n",
    "\n",
    "# Eigenvalues and eigenvectors\n",
    "eigenvalues, eigenvectors = np.linalg.eig(A)\n",
    "print(\"Eigenvalues:\", eigenvalues)\n",
    "print(\"Eigenvectors:\\n\", eigenvectors)"
   ]
  },
  {
   "cell_type": "markdown",
   "id": "a080424a-e148-4e38-8e19-aff90bd9632c",
   "metadata": {},
   "source": [
    "## Matrix Decomposition\n",
    "- `numpy.linalg.svd()` – Singular Value Decomposition (SVD).\n",
    "- `numpy.linalg.qr()` – QR decomposition.\n",
    "- `numpy.linalg.cholesky()` – Cholesky decomposition."
   ]
  },
  {
   "cell_type": "code",
   "execution_count": null,
   "id": "f330eddd-cd5d-4cc6-a47c-14af5f9ab42d",
   "metadata": {},
   "outputs": [],
   "source": [
    "import numpy as np\n",
    "\n",
    "A = np.array([[1, 2], [3, 4], [5, 6]])\n",
    "U, S, Vt = np.linalg.svd(A)\n",
    "print(\"U =\\n\", U)\n",
    "print(\"Singular values =\", S)\n",
    "print(\"V^T =\\n\", Vt)"
   ]
  },
  {
   "cell_type": "markdown",
   "id": "8eea9445-ad93-4b3c-9367-c7e9c68e3490",
   "metadata": {},
   "source": [
    "## Solving Linear Equations\n",
    "- `numpy.linalg.solve()` – Solves Ax = b.\n",
    "- `numpy.linalg.lstsq()` – Least-squares solution."
   ]
  },
  {
   "cell_type": "code",
   "execution_count": null,
   "id": "36631ec3-f4fd-4caf-897d-b8fda9b96ba2",
   "metadata": {},
   "outputs": [],
   "source": [
    "import numpy as np\n",
    "\n",
    "A = np.array([[3, 1], [1, 2]])\n",
    "b = np.array([9, 8])\n",
    "\n",
    "# Solve Ax = b\n",
    "x = np.linalg.solve(A, b)\n",
    "print(\"Solution x =\", x)"
   ]
  },
  {
   "cell_type": "markdown",
   "id": "a92ba33f-0d4d-4b08-811f-768625cb33f7",
   "metadata": {},
   "source": [
    "## Matrix Norms\n",
    "- `numpy.linalg.norm()` – Computes matrix/vector norm."
   ]
  },
  {
   "cell_type": "code",
   "execution_count": null,
   "id": "25868b4c-d717-49ea-b6cd-1f95421b3607",
   "metadata": {},
   "outputs": [],
   "source": [
    "import numpy as np\n",
    "\n",
    "A = np.array([[1, 2], [3, 4]])\n",
    "norm_A = np.linalg.norm(A)  # Frobenius norm by default\n",
    "print(\"Norm of A =\", norm_A)"
   ]
  },
  {
   "cell_type": "markdown",
   "id": "6d28b312-e03b-447c-acda-2052d06b2c6e",
   "metadata": {},
   "source": [
    "## Matrix Exponentiation\n",
    "- `numpy.linalg.matrix_power()` – Raises a matrix to a power."
   ]
  },
  {
   "cell_type": "code",
   "execution_count": null,
   "id": "df7462e8-872f-4f59-bb4a-a43dd38e764e",
   "metadata": {},
   "outputs": [],
   "source": [
    "import numpy as np\n",
    "\n",
    "A = np.array([[1, 1], [1, 0]])\n",
    "A_cubed = np.linalg.matrix_power(A, 3)\n",
    "print(\"A^3 =\\n\", A_cubed)"
   ]
  },
  {
   "cell_type": "code",
   "execution_count": null,
   "id": "5fbacfc5-53d9-46b9-a12a-533194a06052",
   "metadata": {},
   "outputs": [],
   "source": []
  }
 ],
 "metadata": {
  "kernelspec": {
   "display_name": "Python 3 (ipykernel)",
   "language": "python",
   "name": "python3"
  },
  "language_info": {
   "codemirror_mode": {
    "name": "ipython",
    "version": 3
   },
   "file_extension": ".py",
   "mimetype": "text/x-python",
   "name": "python",
   "nbconvert_exporter": "python",
   "pygments_lexer": "ipython3",
   "version": "3.12.5"
  }
 },
 "nbformat": 4,
 "nbformat_minor": 5
}
