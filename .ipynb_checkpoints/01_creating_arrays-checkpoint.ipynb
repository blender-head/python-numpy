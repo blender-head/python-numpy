{
 "cells": [
  {
   "cell_type": "markdown",
   "id": "20b5dcdd-87a3-4421-b26d-00f398e0122d",
   "metadata": {},
   "source": [
    "# NumPy Arrays\n",
    "\n",
    "A NumPy array is a central data structure in the NumPy library for Python, designed for efficient numerical computations. It is a grid-like container that can hold elements of the same data type (e.g., integers, floats) and supports fast mathematical operations.\n",
    "\n",
    "## Key Features of NumPy Arrays:\n",
    "1. Homogeneous Data Type – All elements must be of the same type (e.g., int32, float64).\n",
    "2. Multidimensional – Can be 1D (vectors), 2D (matrices), or higher-dimensional.\n",
    "3. Fast & Efficient – Built in C, making operations much faster than Python lists.\n",
    "4. Vectorized Operations – Supports element-wise computations without loops.\n",
    "5. Memory Efficient – Uses contiguous memory blocks for better performance.\n",
    "\n",
    "## Understanding Dimensions in Arrays\n",
    "1. 1D Array (Vector)\n",
    "    - Shape: (n,)\n",
    "    - Example: [1, 2, 3]\n",
    "    - Use case: Time-series data, simple lists.\n",
    "\n",
    "2. 2D Array (Matrix)\n",
    "    - Shape: (rows, columns)\n",
    "    - Example:\n",
    "        [[1, 2, 3], [4, 5, 6]]\n",
    "    - Use case: Images (grayscale), spreadsheets.\n",
    "\n",
    "3. 3D Array (Tensor)\n",
    "    - Shape: (depth, rows, columns)\n",
    "    - Example:\n",
    "    ```\n",
    "    [\n",
    "      [[1, 2], [3, 4]],  # First 2D \"slice\"\n",
    "      [[5, 6], [7, 8]]   # Second 2D \"slice\"\n",
    "    ]\n",
    "    ```\n",
    "    - Use case: RGB images (3 color channels), time-series of 2D data.\n",
    "\n",
    "4. 4D+ Arrays\n",
    "    - Shape: (batch_size, depth, rows, columns) or higher.\n",
    "    - Example:\n",
    "    ```\n",
    "    [\n",
    "      [  # Batch 1\n",
    "        [[1, 2], [3, 4]],  # Channel 1\n",
    "        [[5, 6], [7, 8]]   # Channel 2\n",
    "      ],\n",
    "      [  # Batch 2\n",
    "        [[9, 10], [11, 12]],\n",
    "        [[13, 14], [15, 16]]\n",
    "      ]\n",
    "    ]\n",
    "    ```\n",
    "    - Use case: Batches of images (e.g., in deep learning), volumetric data (MRI scans)."
   ]
  },
  {
   "cell_type": "markdown",
   "id": "8325cb93-73f7-4460-a7ef-61f9b1c8c673",
   "metadata": {},
   "source": [
    "## Create 1 Dimensional Array\n",
    "\n",
    "Create NumPy 1 dimensional (a axis) array list object of type byte (-128 to 127). A N-dimensional array is a usually fixed size multidimensional array that contains items of the same type. "
   ]
  },
  {
   "cell_type": "code",
   "execution_count": 14,
   "id": "2d9f46cd-326b-46d3-a26a-9798ca08080c",
   "metadata": {},
   "outputs": [
    {
     "name": "stdout",
     "output_type": "stream",
     "text": [
      "[1 2 3 4 5]\n"
     ]
    }
   ],
   "source": [
    "import numpy as np\n",
    "\n",
    "list_1 = [1,2,3,4,5]\n",
    "\n",
    "# Create NumPy 1 dimensional (a axis) array list object of type byte (-128 to 127)\n",
    "# A N-dimensional array is a usyally fixed size multidimensional\n",
    "# array that contains items of the same type. \n",
    "np_arr_1 = np.array(list_1, dtype=np.int8)\n",
    "print(np_arr_1)"
   ]
  },
  {
   "cell_type": "markdown",
   "id": "115fdedb-dd82-479b-a07e-4ba1250b15ee",
   "metadata": {},
   "source": [
    "## Create Multidimenional List\n",
    "\n",
    "Create NumPy multidimensional (2 axis) array without defining type"
   ]
  },
  {
   "cell_type": "code",
   "execution_count": 15,
   "id": "1fa3181a-7bae-4293-abab-c1eb103f2f4c",
   "metadata": {},
   "outputs": [
    {
     "name": "stdout",
     "output_type": "stream",
     "text": [
      "[[1 2 3]\n",
      " [4 5 6]\n",
      " [7 8 9]]\n"
     ]
    }
   ],
   "source": [
    "import numpy as np\n",
    "m_list_1 = [[1, 2, 3], [4, 5, 6], [7, 8, 9]]\n",
    "\n",
    "\n",
    "np_m_arr_1 = np.array(m_list_1)\n",
    "print(np_m_arr_1)"
   ]
  },
  {
   "cell_type": "markdown",
   "id": "67aa3255-bb08-49a7-bf68-441ddce0be88",
   "metadata": {},
   "source": [
    "## Create Array Using `arange`\n",
    "\n",
    "`numpy.arange` is a function in the NumPy library that creates an array with evenly spaced values within a specified range. It is similar to Python's built-in range() function but returns a NumPy array instead of a list and supports floating-point numbers.\n",
    "\n",
    "Syntax:\n",
    "`numpy.arange([start,] stop[, step,], dtype=None)`\n",
    "\n",
    "Parameters:\n",
    "- `start (optional)`: The starting value of the sequence (default is 0).\n",
    "- `stop`: The end value (exclusive).\n",
    "- `step (optional)`: The spacing between values (default is 1).\n",
    "- `dtype (optional)`: The data type of the output array (e.g., int, float).\n",
    "\n",
    "Returns:\n",
    "- A NumPy array containing values from start to stop (exclusive) with increments of step."
   ]
  },
  {
   "cell_type": "markdown",
   "id": "f2006e38-b86e-4002-bde6-6e5cb0a2ed10",
   "metadata": {},
   "source": [
    "### Basic Usage"
   ]
  },
  {
   "cell_type": "code",
   "execution_count": 42,
   "id": "e08b36f7-4dbd-4733-a368-d3e4cda1668a",
   "metadata": {},
   "outputs": [
    {
     "name": "stdout",
     "output_type": "stream",
     "text": [
      "[0 1 2 3 4]\n"
     ]
    }
   ],
   "source": [
    "import numpy as np\n",
    "\n",
    "# Generate numbers from 0 to 4\n",
    "arr = np.arange(5)\n",
    "print(arr)"
   ]
  },
  {
   "cell_type": "markdown",
   "id": "e0fbc745-7ea0-44b5-a27f-b7a3948b1687",
   "metadata": {},
   "source": [
    "### Specifying `start` and `stop`"
   ]
  },
  {
   "cell_type": "code",
   "execution_count": 43,
   "id": "814fb87d-4eeb-4ab6-b70b-d4d7c15e8f60",
   "metadata": {},
   "outputs": [
    {
     "name": "stdout",
     "output_type": "stream",
     "text": [
      "[2 3 4 5 6 7]\n"
     ]
    }
   ],
   "source": [
    "import numpy as np\n",
    "\n",
    "# Generate numbers from 2 to 7 (exclusive)\n",
    "arr = np.arange(2, 8)\n",
    "print(arr)  # Output: [2 3 4 5 6 7]"
   ]
  },
  {
   "cell_type": "markdown",
   "id": "95bc77d7-7999-48f4-9218-b74b7ff41f1c",
   "metadata": {},
   "source": [
    "### Using a Custom step"
   ]
  },
  {
   "cell_type": "code",
   "execution_count": 44,
   "id": "97ed1e67-487a-4c68-a442-2b0a83c22cfa",
   "metadata": {},
   "outputs": [
    {
     "name": "stdout",
     "output_type": "stream",
     "text": [
      "[1 3 5 7 9]\n"
     ]
    }
   ],
   "source": [
    "import numpy as np\n",
    "\n",
    "# Generate numbers from 1 to 10 with step=2\n",
    "arr = np.arange(1, 10, 2)\n",
    "print(arr)  # Output: [1 3 5 7 9]"
   ]
  },
  {
   "cell_type": "markdown",
   "id": "a268996c-2bbf-4260-bc4f-b0246e5de79d",
   "metadata": {},
   "source": [
    "### Floating-Point Range"
   ]
  },
  {
   "cell_type": "code",
   "execution_count": 45,
   "id": "17ae4bbb-fc76-4147-9db0-8868e9d239c5",
   "metadata": {},
   "outputs": [
    {
     "name": "stdout",
     "output_type": "stream",
     "text": [
      "[0.5 1.  1.5 2.  2.5]\n"
     ]
    }
   ],
   "source": [
    "import numpy as np\n",
    "\n",
    "# Generate floating-point numbers from 0.5 to 2.5 with step=0.5\n",
    "arr = np.arange(0.5, 3.0, 0.5)\n",
    "print(arr)  # Output: [0.5 1.0 1.5 2.0 2.5]"
   ]
  },
  {
   "cell_type": "markdown",
   "id": "408d2833-4800-42e1-b070-18360cc112d0",
   "metadata": {},
   "source": [
    "### Specifying dtype"
   ]
  },
  {
   "cell_type": "code",
   "execution_count": 46,
   "id": "a7f4f0fd-be87-4689-8758-a40120cf45f8",
   "metadata": {},
   "outputs": [
    {
     "name": "stdout",
     "output_type": "stream",
     "text": [
      "[0. 1. 2.]\n"
     ]
    }
   ],
   "source": [
    "import numpy as np\n",
    "\n",
    "# Generate integers but force float output\n",
    "arr = np.arange(3, dtype=float)\n",
    "print(arr)  # Output: [0. 1. 2.]"
   ]
  },
  {
   "cell_type": "markdown",
   "id": "672dec1f-1bd9-43ff-b071-0f67cdd1f861",
   "metadata": {},
   "source": [
    "## Create Array Using `linspace`\n",
    "\n",
    "`numpy.linspace` is a function in the NumPy library (used for numerical computing in Python) that creates an array of evenly spaced numbers over a specified interval. `linspace` is particularly useful when you need a specific number of points within a range, such as for plotting or mathematical sampling.\n",
    "\n",
    "Syntax:\n",
    "\n",
    "`numpy.linspace(start, stop, num=50, endpoint=True, retstep=False, dtype=None, axis=0)`\n",
    "\n",
    "Parameters:\n",
    "- `start`: The starting value of the sequence.\n",
    "- `stop`: The end value of the sequence (included if endpoint=True).\n",
    "- `num`: Number of samples to generate (default: 50).\n",
    "- `endpoint`: If True (default), includes the stop value in the sequence. If False, excludes it.\n",
    "- `retstep`: If True, returns the step size between values.\n",
    "- `dtype`: Data type of the output array (e.g., float, int).\n",
    "- `axis`: Axis along which the numbers are stored (relevant for multi-dimensional output).\n",
    "\n",
    "Returns:\n",
    "- An array of evenly spaced numbers.\n",
    "- (Optional) If retstep=True, also returns the step size."
   ]
  },
  {
   "cell_type": "markdown",
   "id": "846814d6-6457-48f6-8630-2020827cbb3f",
   "metadata": {},
   "source": [
    "### Basic Usage"
   ]
  },
  {
   "cell_type": "code",
   "execution_count": 38,
   "id": "091405a2-c911-409c-a849-0496987b1f12",
   "metadata": {},
   "outputs": [
    {
     "name": "stdout",
     "output_type": "stream",
     "text": [
      "[ 0.   2.5  5.   7.5 10. ]\n"
     ]
    }
   ],
   "source": [
    "import numpy as np\n",
    "\n",
    "# start = 0\n",
    "# stop = 10\n",
    "# sample number = 5\n",
    "arr = np.linspace(0, 10, 5)\n",
    "print(arr)"
   ]
  },
  {
   "cell_type": "markdown",
   "id": "ad3ec493-1ae2-4561-b62a-0df48b0f0ef3",
   "metadata": {},
   "source": [
    "### Display Step Size"
   ]
  },
  {
   "cell_type": "code",
   "execution_count": 35,
   "id": "d5188325-acc0-41a3-ac33-77461126b554",
   "metadata": {},
   "outputs": [
    {
     "name": "stdout",
     "output_type": "stream",
     "text": [
      "Array: [ 0.   2.5  5.   7.5 10. ]\n",
      "Step Size: 2.5\n"
     ]
    }
   ],
   "source": [
    "import numpy as np\n",
    "\n",
    "arr = np.linspace(0, 10, 5, retstep=True)\n",
    "print(f\"Array: {arr[0]}\")\n",
    "print(f\"Step Size: {arr[1]}\")"
   ]
  },
  {
   "cell_type": "markdown",
   "id": "b1c7bde9-bee3-47aa-9a5f-3a462d128039",
   "metadata": {},
   "source": [
    "### Excluding Endpoint:"
   ]
  },
  {
   "cell_type": "code",
   "execution_count": 40,
   "id": "32c2bba9-42ef-4854-9a31-6800c737d414",
   "metadata": {},
   "outputs": [
    {
     "name": "stdout",
     "output_type": "stream",
     "text": [
      "Array: [0. 2. 4. 6. 8.]\n",
      "Step Size: 2.0\n"
     ]
    }
   ],
   "source": [
    "import numpy as np\n",
    "\n",
    "# start = 0\n",
    "# stop = 8 (10 is excluded with endpoint=False)\n",
    "# sample number = 5\n",
    "arr = np.linspace(0, 10, 5, endpoint=False, retstep=True)\n",
    "print(f\"Array: {arr[0]}\")\n",
    "print(f\"Step Size: {arr[1]}\")"
   ]
  },
  {
   "cell_type": "markdown",
   "id": "794c7594-dbaa-41f5-a097-6f6027fcc28b",
   "metadata": {},
   "source": [
    "### Generating Integer Values"
   ]
  },
  {
   "cell_type": "code",
   "execution_count": 37,
   "id": "8a14ece3-dd1f-4e28-952f-8979d5e6e10f",
   "metadata": {},
   "outputs": [
    {
     "name": "stdout",
     "output_type": "stream",
     "text": [
      "[ 0  2  5  7 10]\n"
     ]
    }
   ],
   "source": [
    "import numpy as np\n",
    "\n",
    "arr = np.linspace(0, 10, 5, dtype=int)\n",
    "print(arr)"
   ]
  },
  {
   "cell_type": "markdown",
   "id": "f4739b01-8bc4-4ca3-b2e7-ad7abce0c3c9",
   "metadata": {},
   "source": [
    "## Creating Array Using `zeros`\n",
    "\n",
    "In NumPy, numpy.zeros() is a function that creates an array filled with zeros. It's a convenient way to initialize an array with a specific shape and data type, where all elements are set to zero.\n",
    "\n",
    "Syntax:\n",
    "```\n",
    "numpy.zeros(shape, dtype=float, order='C', *, like=None)\n",
    "```\n",
    "Parameters:\n",
    "- `shape` (int or tuple of ints): The shape of the array (e.g., 5 for a 1D array of length 5, or (3, 4) for a 3x4 2D array).\n",
    "- `dtype` (data-type, optional): The data type of the array (default is float). Common options include int, float, bool, etc.\n",
    "- `order` ('C' or 'F', optional): Whether to store the array in C-style (row-major) or Fortran-style (column-major) order (default is 'C').\n",
    "- `like` (array-like, optional): Reference object to allow the creation of arrays that are not NumPy arrays (advanced usage).\n",
    "\n",
    "Returns:\n",
    "- An array of the given shape and type, filled with zeros.\n",
    "\n",
    "Key Notes:\n",
    "- `np.zeros()` is often used to initialize arrays before filling them with actual data.\n",
    "- The default data type is `float64` (unless `dtype` is specified).\n",
    "- For creating an array of ones, use `np.ones()`. For uninitialized arrays (faster but contains garbage values), use `np.empty()`."
   ]
  },
  {
   "cell_type": "markdown",
   "id": "8aaf4858-7683-4805-ace7-4c6e037618d5",
   "metadata": {},
   "source": [
    "### 1D Array of Zeros"
   ]
  },
  {
   "cell_type": "code",
   "execution_count": 47,
   "id": "98d810c1-0a34-4ccb-8d92-2b8720747b80",
   "metadata": {},
   "outputs": [
    {
     "name": "stdout",
     "output_type": "stream",
     "text": [
      "[0. 0. 0. 0. 0.]\n"
     ]
    }
   ],
   "source": [
    "import numpy as np\n",
    "\n",
    "arr = np.zeros(5)\n",
    "print(arr)"
   ]
  },
  {
   "cell_type": "markdown",
   "id": "2cdb6b24-828e-415a-93c4-e4073e1af60b",
   "metadata": {},
   "source": [
    "### 2D Array (Matrix) of Zeros:"
   ]
  },
  {
   "cell_type": "code",
   "execution_count": 48,
   "id": "b68ff45a-fdaf-46e3-9646-4a4e0a253eb3",
   "metadata": {},
   "outputs": [
    {
     "name": "stdout",
     "output_type": "stream",
     "text": [
      "[[0. 0. 0.]\n",
      " [0. 0. 0.]]\n"
     ]
    }
   ],
   "source": [
    "import numpy as np\n",
    "\n",
    "arr_2d = np.zeros((2, 3))  # 2 rows, 3 columns\n",
    "print(arr_2d)"
   ]
  },
  {
   "cell_type": "markdown",
   "id": "bb10fcbc-17ee-4d80-b195-3509b3620003",
   "metadata": {},
   "source": [
    "### Specifying Data Type (dtype)"
   ]
  },
  {
   "cell_type": "code",
   "execution_count": 49,
   "id": "794a4d5c-2036-4a92-ac19-7a0dbf36f122",
   "metadata": {},
   "outputs": [
    {
     "name": "stdout",
     "output_type": "stream",
     "text": [
      "[0 0 0 0]\n"
     ]
    }
   ],
   "source": [
    "import numpy as np\n",
    "\n",
    "arr_int = np.zeros(4, dtype=int)  # Integer zeros\n",
    "print(arr_int)"
   ]
  },
  {
   "cell_type": "markdown",
   "id": "6e1f6a64-c1b3-4c78-8c15-b6d5e5235b61",
   "metadata": {},
   "source": [
    "### Higher-Dimensional Array\n",
    "\n",
    "A higher-dimensional array in NumPy is an array with more than two dimensions. While a 1D array is like a list, and a 2D array is like a matrix (rows and columns), higher-dimensional arrays extend this idea to three or more axes (dimensions). These are often used in scientific computing, deep learning, and numerical simulations where data has a natural multi-dimensional structure"
   ]
  },
  {
   "cell_type": "code",
   "execution_count": 50,
   "id": "918b8e7d-288e-4d65-8840-1871c0f81da0",
   "metadata": {},
   "outputs": [
    {
     "name": "stdout",
     "output_type": "stream",
     "text": [
      "[[[0. 0. 0.]\n",
      "  [0. 0. 0.]]\n",
      "\n",
      " [[0. 0. 0.]\n",
      "  [0. 0. 0.]]]\n"
     ]
    }
   ],
   "source": [
    "import numpy as np\n",
    "\n",
    "arr_3d = np.zeros((2, 2, 3))  # 2x2x3 tensor\n",
    "print(arr_3d)"
   ]
  },
  {
   "cell_type": "markdown",
   "id": "c46b511b-d7ce-4225-aabe-a38d54c8ce02",
   "metadata": {},
   "source": [
    "## Creating Array Using `ones`\n",
    "\n",
    "In NumPy, numpy.ones() is a function that creates an array filled with the value 1. It's a convenient way to initialize an array where all elements are ones.\n",
    "\n",
    "Syntax:\n",
    "```\n",
    "numpy.ones(shape, dtype=None, order='C')\n",
    "```\n",
    "\n",
    "Parameters:\n",
    "- `shape`: The shape of the array (can be an integer for a 1D array or a tuple for higher dimensions, e.g., (3, 4) for a 3x4 matrix).\n",
    "- `dtype` (optional): The data type of the array (default is float64).\n",
    "- `order` (optional): Whether to store the array in row-major ('C') or column-major ('F') order (rarely used).\n",
    "\n",
    "Use Cases:\n",
    "- Initializing weights in machine learning (before training).\n",
    "- Creating masks or placeholder arrays.\n",
    "- Serving as a base array for further operations.\n",
    "\n",
    "Similar Functions:\n",
    "- numpy.zeros(): Creates an array filled with 0s.\n",
    "- numpy.full(): Creates an array filled with a custom value."
   ]
  },
  {
   "cell_type": "markdown",
   "id": "51344115-c3cb-4347-9146-ff54f1061899",
   "metadata": {},
   "source": [
    "### 1D array of ones"
   ]
  },
  {
   "cell_type": "code",
   "execution_count": 51,
   "id": "90d45e54-fb70-4cae-9d92-979991254f29",
   "metadata": {},
   "outputs": [
    {
     "name": "stdout",
     "output_type": "stream",
     "text": [
      "[1. 1. 1. 1. 1.]\n"
     ]
    }
   ],
   "source": [
    "import numpy as np\n",
    "\n",
    "arr = np.ones(5)\n",
    "print(arr)  # Output: [1. 1. 1. 1. 1.]"
   ]
  },
  {
   "cell_type": "markdown",
   "id": "6a2a2897-642d-4afe-8f26-8a94061ea0c1",
   "metadata": {},
   "source": [
    "### 2D array (matrix) of ones"
   ]
  },
  {
   "cell_type": "code",
   "execution_count": 53,
   "id": "286afd64-5e19-4126-8aff-8bd197555854",
   "metadata": {},
   "outputs": [
    {
     "name": "stdout",
     "output_type": "stream",
     "text": [
      "[[1. 1. 1.]\n",
      " [1. 1. 1.]]\n"
     ]
    }
   ],
   "source": [
    "import numpy as np\n",
    "\n",
    "arr = np.ones((2, 3))\n",
    "print(arr)\n",
    "# Output:\n",
    "# [[1. 1. 1.]\n",
    "#  [1. 1. 1.]]"
   ]
  },
  {
   "cell_type": "markdown",
   "id": "e75c0ff8-1de9-4940-9474-a2c9ba02e132",
   "metadata": {},
   "source": [
    "### With a specific data type (e.g., int)"
   ]
  },
  {
   "cell_type": "code",
   "execution_count": 54,
   "id": "60c5381e-6db4-4329-82dd-e214a883e38e",
   "metadata": {},
   "outputs": [
    {
     "name": "stdout",
     "output_type": "stream",
     "text": [
      "[[1 1]\n",
      " [1 1]]\n"
     ]
    }
   ],
   "source": [
    "import numpy as np\n",
    "\n",
    "arr = np.ones((2, 2), dtype=int)\n",
    "print(arr)\n",
    "# Output:\n",
    "# [[1 1]\n",
    "#  [1 1]]"
   ]
  },
  {
   "cell_type": "markdown",
   "id": "82a94a2b-92ff-46f8-8417-9daa107e988f",
   "metadata": {},
   "source": [
    "## Get Array Size "
   ]
  },
  {
   "cell_type": "markdown",
   "id": "43681b75-f559-4a66-885b-271ec1686bae",
   "metadata": {},
   "source": [
    "### numpy.size() Function\n",
    "\n",
    "- Returns the total number of elements in an array.\n",
    "- Equivalent to array.size (attribute).\n",
    "- Can also count elements along a specific axis."
   ]
  },
  {
   "cell_type": "code",
   "execution_count": 55,
   "id": "6ef4c361-e4d4-490f-9ca5-ba5cb20fcbff",
   "metadata": {},
   "outputs": [
    {
     "name": "stdout",
     "output_type": "stream",
     "text": [
      "6\n",
      "2\n",
      "3\n"
     ]
    }
   ],
   "source": [
    "import numpy as np\n",
    "\n",
    "arr = np.array([[1, 2, 3], [4, 5, 6]])\n",
    "\n",
    "total_elements = np.size(arr)  # Returns 6\n",
    "print(total_elements)  # Output: 6\n",
    "\n",
    "# Count along axis 0 (rows)\n",
    "elements_axis0 = np.size(arr, axis=0)  # Returns 2 (number of rows)\n",
    "print(elements_axis0)  # Output: 2\n",
    "\n",
    "# Count along axis 1 (columns)\n",
    "elements_axis1 = np.size(arr, axis=1)  # Returns 3 (number of columns)\n",
    "print(elements_axis1)  # Output: 3"
   ]
  },
  {
   "cell_type": "markdown",
   "id": "9471ce54-e7e6-43e8-af18-ed815c549107",
   "metadata": {},
   "source": [
    "### `array.size` Attribute\n",
    "\n",
    "- A property of NumPy arrays that gives the total number of elements.\n",
    "- Faster than np.size() since it's a direct attribute access."
   ]
  },
  {
   "cell_type": "code",
   "execution_count": 56,
   "id": "53bc1112-74b3-441b-a324-b3abaeb8bb2a",
   "metadata": {},
   "outputs": [
    {
     "name": "stdout",
     "output_type": "stream",
     "text": [
      "6\n"
     ]
    }
   ],
   "source": [
    "import numpy as np\n",
    "\n",
    "arr = np.array([[1, 2, 3], [4, 5, 6]])\n",
    "\n",
    "total_elements = arr.size  # Returns 6\n",
    "print(total_elements)  # Output: 6"
   ]
  },
  {
   "cell_type": "markdown",
   "id": "4013bb28-f3ff-49a3-a667-a14ab9ad5c55",
   "metadata": {},
   "source": [
    "### Key Differences:\n",
    "\n",
    "<table style=\"float: left;\">\n",
    "    <tr>\n",
    "        <td>Feature</td>\n",
    "        <td>np.size(arr)</td>\n",
    "        <td>arr.size</td>\n",
    "    </tr>\n",
    "    <tr>\n",
    "        <td>Type</td>\n",
    "        <td>Function</td>\n",
    "        <td>Attribute</td>\n",
    "    </tr>\n",
    "    <tr>\n",
    "        <td>Axis Specification</td>\n",
    "        <td>Yes (axis= parameter)</td>\n",
    "        <td>No</td>\n",
    "    </tr>\n",
    "    <tr>\n",
    "        <td>Performance</td>\n",
    "        <td>Slightly slower</td>\n",
    "        <td>Faster</td>\n",
    "    </tr>\n",
    "</table>"
   ]
  },
  {
   "cell_type": "markdown",
   "id": "771a0325-ce9b-48ef-bfe0-86d8367b7323",
   "metadata": {},
   "source": [
    "### Summary:\n",
    "\n",
    "- Use arr.size for a quick total count.\n",
    "- Use np.size(arr, axis=n) if you need the size along a specific dimension."
   ]
  },
  {
   "cell_type": "markdown",
   "id": "fa91c354-4ad8-468c-bd69-a63727482c8d",
   "metadata": {},
   "source": [
    "## Using `random`"
   ]
  },
  {
   "cell_type": "markdown",
   "id": "156a31b6-4c25-4f5d-bdbc-a1c2eeadb5be",
   "metadata": {},
   "source": [
    "numpy.random is a submodule of the NumPy library in Python that provides functions for generating random numbers and performing random sampling. It is widely used in statistics, machine learning, simulations, and other applications where randomness is required.\n",
    "\n",
    "### Key Features of numpy.random:\n",
    "\n",
    "1. Random Number Generation:\n",
    "    - Generate random numbers from various probability distributions (uniform, normal, binomial, etc.).\n",
    "    - Example: `np.random.rand()`, `np.random.randint()`, `np.random.normal()`.\n",
    "\n",
    "2. Random Sampling:\n",
    "    - Randomly shuffle arrays (np.random.shuffle()).\n",
    "    - Randomly permute sequences (np.random.permutation()).\n",
    "    - Choose random elements from an array (np.random.choice()).\n",
    "\n",
    "3. Seeding for Reproducibility:\n",
    "    - Use `np.random.seed()` to ensure the same random numbers are generated each time (useful for debugging)."
   ]
  },
  {
   "cell_type": "markdown",
   "id": "d14804cb-f1f3-417a-b11d-1e2f42134272",
   "metadata": {},
   "source": [
    "### Example Usage"
   ]
  },
  {
   "cell_type": "code",
   "execution_count": 70,
   "id": "a13d13a4-2345-40f3-9355-fbad8ddbb510",
   "metadata": {},
   "outputs": [
    {
     "name": "stdout",
     "output_type": "stream",
     "text": [
      "0.3745401188473625\n",
      "8\n",
      "-1.1118801180469204\n",
      "[2 1]\n",
      "None\n"
     ]
    }
   ],
   "source": [
    "import numpy as np\n",
    "\n",
    "# Set seed for reproducibility\n",
    "# Without a seed, NumPy uses system time or another unpredictable source, making results non-reproducible.\n",
    "# The seed must be an integer (e.g., 42)\n",
    "np.random.seed(42)\n",
    "\n",
    "# Generate random numbers\n",
    "random_float = np.random.rand()  # Uniform [0, 1)\n",
    "print(random_float)\n",
    "random_int = np.random.randint(1, 10)  # Integer between 1 and 9\n",
    "print(random_int)\n",
    "random_normal = np.random.normal(0, 1)  # Standard normal distribution\n",
    "print(random_normal)\n",
    "\n",
    "# Random sampling\n",
    "sample = np.random.choice([1, 2, 3, 4], size=2, replace=False)  # [1, 4]\n",
    "print(sample)\n",
    "\n",
    "# Shuffling an array\n",
    "arr = np.array([1, 2, 3, 4])\n",
    "arr_shuffled = np.random.shuffle(arr)  # e.g., [3, 1, 4, 2]\n",
    "print(arr_shuffled)"
   ]
  },
  {
   "cell_type": "code",
   "execution_count": null,
   "id": "6c1fef54-c2f9-46ff-85c1-69a43e59c5a4",
   "metadata": {},
   "outputs": [],
   "source": []
  }
 ],
 "metadata": {
  "kernelspec": {
   "display_name": "Python 3 (ipykernel)",
   "language": "python",
   "name": "python3"
  },
  "language_info": {
   "codemirror_mode": {
    "name": "ipython",
    "version": 3
   },
   "file_extension": ".py",
   "mimetype": "text/x-python",
   "name": "python",
   "nbconvert_exporter": "python",
   "pygments_lexer": "ipython3",
   "version": "3.12.5"
  }
 },
 "nbformat": 4,
 "nbformat_minor": 5
}
