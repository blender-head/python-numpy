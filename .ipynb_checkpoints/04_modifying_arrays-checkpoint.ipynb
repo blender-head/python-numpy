{
 "cells": [
  {
   "cell_type": "markdown",
   "id": "119e04e7-f396-4db1-84f0-07eed6a9dd3a",
   "metadata": {},
   "source": [
    "# Modifying Arrays"
   ]
  },
  {
   "cell_type": "markdown",
   "id": "4cfee7a5-c34b-46c6-85c8-7cebac108232",
   "metadata": {},
   "source": [
    "## Reshaping Arrays\n",
    "\n",
    "Reshaping arrays in NumPy refers to changing the structure (shape) of an array without changing its data. This is a fundamental operation when working with numerical data in Python. Reshaping is particularly important in data science for preparing data for machine learning models, image processing, and linear algebra operations.\n",
    "\n",
    "### Key Concepts\n",
    "- **Shape**: The dimensions of an array (e.g., (3,4) for a 2D array with 3 rows and 4 columns)\n",
    "- **Size**: Total number of elements in the array (product of all dimensions)"
   ]
  },
  {
   "cell_type": "markdown",
   "id": "8d1946ce-f1f8-48de-a126-626254342d65",
   "metadata": {},
   "source": [
    "### reshape() method"
   ]
  },
  {
   "cell_type": "code",
   "execution_count": 3,
   "id": "76bc6d5e-1901-4556-8bf0-e65f541bbcc9",
   "metadata": {},
   "outputs": [
    {
     "name": "stdout",
     "output_type": "stream",
     "text": [
      "[ 0  1  2  3  4  5  6  7  8  9 10 11]\n",
      "[[ 0  1  2  3]\n",
      " [ 4  5  6  7]\n",
      " [ 8  9 10 11]]\n"
     ]
    }
   ],
   "source": [
    "import numpy as np\n",
    "\n",
    "arr = np.arange(12)  # 1D array with 12 elements\n",
    "print(arr)\n",
    "reshaped = arr.reshape(3, 4)  # Convert to 3x4 array\n",
    "print(reshaped)"
   ]
  },
  {
   "cell_type": "markdown",
   "id": "48b35830-64c1-45cb-82b3-b3daa1194f20",
   "metadata": {},
   "source": [
    "### Reshaping with -1"
   ]
  },
  {
   "cell_type": "code",
   "execution_count": 4,
   "id": "76219b3b-a8d6-4a8e-afb5-fc74072a91d3",
   "metadata": {},
   "outputs": [
    {
     "name": "stdout",
     "output_type": "stream",
     "text": [
      "[ 0  1  2  3  4  5  6  7  8  9 10 11 12 13 14 15 16 17 18 19 20 21 22 23]\n",
      "[[[ 0  1  2  3]\n",
      "  [ 4  5  6  7]\n",
      "  [ 8  9 10 11]]\n",
      "\n",
      " [[12 13 14 15]\n",
      "  [16 17 18 19]\n",
      "  [20 21 22 23]]]\n"
     ]
    }
   ],
   "source": [
    "import numpy as np\n",
    "\n",
    "arr = np.arange(24)\n",
    "print(arr)\n",
    "reshaped = arr.reshape(2, 3, -1)  # Results in 2x3x4 array\n",
    "print(reshaped)"
   ]
  },
  {
   "cell_type": "markdown",
   "id": "b86bc3f5-ece6-4962-b0b6-1f6582646130",
   "metadata": {},
   "source": [
    "## Flatten An Array\n",
    "\n",
    "Convert multi-dimensional arrays to 1D"
   ]
  },
  {
   "cell_type": "code",
   "execution_count": 5,
   "id": "77676d5c-9e87-4fe9-a61e-9582ec262bcc",
   "metadata": {},
   "outputs": [
    {
     "name": "stdout",
     "output_type": "stream",
     "text": [
      "[[1 2]\n",
      " [3 4]]\n",
      "[1 2 3 4]\n"
     ]
    }
   ],
   "source": [
    "import numpy as np\n",
    "\n",
    "arr_2d = np.array([[1, 2], [3, 4]])\n",
    "print(arr_2d)\n",
    "flat = arr_2d.flatten()\n",
    "print(flat)"
   ]
  },
  {
   "cell_type": "markdown",
   "id": "463ef5ef-397a-47f8-bf13-b7b8a0ff75c9",
   "metadata": {},
   "source": [
    "## Resizing Array\n",
    "\n",
    "The resize() function in NumPy is used to change the size (total number of elements) of an array, unlike reshape() which only changes the shape while keeping the size constant.\n",
    "\n",
    "### Key Features of resize()\n",
    "- Can change the total number of elements (unlike reshape)\n",
    "- Can either return a new array or modify the original (depending on which version you use)\n",
    "- Handles size changes by repeating elements or padding with zeros when needed"
   ]
  },
  {
   "cell_type": "markdown",
   "id": "528594e9-96c9-44be-a2d1-0c0714bb0252",
   "metadata": {},
   "source": [
    "### np.resize(array, new_shape)\n",
    "\n",
    "- Returns a new array with the specified shape\n",
    "- If new size is larger, the original data is repeated\n",
    "- If new size is smaller, the array is truncated"
   ]
  },
  {
   "cell_type": "code",
   "execution_count": 7,
   "id": "72b32eda-4574-45cf-8225-decf908903e5",
   "metadata": {},
   "outputs": [
    {
     "name": "stdout",
     "output_type": "stream",
     "text": [
      "[1 2 3 4]\n",
      "[1 2 3 4 1 2 3 4]\n",
      "[1 2 3]\n"
     ]
    }
   ],
   "source": [
    "import numpy as np\n",
    "\n",
    "arr = np.array([1, 2, 3, 4])\n",
    "print(arr)\n",
    "\n",
    "# Larger array - elements are repeated\n",
    "larger = np.resize(arr, (8,))  # Returns array([1, 2, 3, 4, 1, 2, 3, 4])\n",
    "print(larger)\n",
    "\n",
    "# Smaller array - elements are truncated\n",
    "smaller = np.resize(arr, (3,))  # Returns array([1, 2, 3])\n",
    "print(smaller)"
   ]
  },
  {
   "cell_type": "markdown",
   "id": "b03f677f-c04c-43be-8f15-4b8507996be7",
   "metadata": {},
   "source": [
    "### ndarray.resize(new_shape, refcheck=True)\n",
    "\n",
    "- Modifies the array in-place\n",
    "- If new size is larger, pads with zeros (not repeating elements)\n",
    "- Requires the array to be the sole owner of its memory (no views)"
   ]
  },
  {
   "cell_type": "code",
   "execution_count": 9,
   "id": "cdb873b2-dc13-4fe8-961e-dd1f52bf438a",
   "metadata": {},
   "outputs": [
    {
     "name": "stdout",
     "output_type": "stream",
     "text": [
      "[1 2 3 4]\n",
      "[1 2 3 4 0 0]\n"
     ]
    }
   ],
   "source": [
    "import numpy as np\n",
    "\n",
    "arr = np.array([1, 2, 3, 4])\n",
    "print(arr)\n",
    "arr.resize((6,))  # Now array([1, 2, 3, 4, 0, 0])\n",
    "print(arr)"
   ]
  },
  {
   "cell_type": "code",
   "execution_count": null,
   "id": "f6c2ad25-717a-447a-93a4-e9a307ab83fc",
   "metadata": {},
   "outputs": [],
   "source": []
  }
 ],
 "metadata": {
  "kernelspec": {
   "display_name": "Python 3 (ipykernel)",
   "language": "python",
   "name": "python3"
  },
  "language_info": {
   "codemirror_mode": {
    "name": "ipython",
    "version": 3
   },
   "file_extension": ".py",
   "mimetype": "text/x-python",
   "name": "python",
   "nbconvert_exporter": "python",
   "pygments_lexer": "ipython3",
   "version": "3.12.5"
  }
 },
 "nbformat": 4,
 "nbformat_minor": 5
}
