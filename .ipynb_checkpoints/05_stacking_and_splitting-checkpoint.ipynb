{
 "cells": [
  {
   "cell_type": "markdown",
   "id": "cbd7266e-035f-49e4-90f8-1b123646d2c5",
   "metadata": {},
   "source": [
    "# Stacking and Splitting\n",
    "\n",
    "In NumPy, stacking and splitting are operations used to combine and divide arrays, respectively. They are essential for data manipulation in machine learning, scientific computing, and numerical analysis"
   ]
  },
  {
   "cell_type": "markdown",
   "id": "8d2c4eb0-6a3e-4900-9ee7-f9695ba5250c",
   "metadata": {},
   "source": [
    "## Stacking\n",
    "\n",
    "Stacking combines multiple arrays into a single array along a specified axis"
   ]
  },
  {
   "cell_type": "markdown",
   "id": "81f1766e-a0be-4f29-9a4b-2d2185401280",
   "metadata": {},
   "source": [
    "### np.stack()\n",
    "\n",
    "- Stacks arrays along a new axis (does not just concatenate).\n",
    "- All input arrays must have the same shape.\n",
    "- Syntax: `np.stack((array1, array2, ...), axis=0)`"
   ]
  },
  {
   "cell_type": "code",
   "execution_count": null,
   "id": "269d3ac7-dca7-44a5-9e6a-6ec66a2f66b3",
   "metadata": {},
   "outputs": [],
   "source": [
    "import numpy as np\n",
    "\n",
    "a = np.array([1, 2, 3])\n",
    "b = np.array([4, 5, 6])\n",
    "\n",
    "# Stack along a new axis (default: axis=0)\n",
    "stacked = np.stack((a, b))\n",
    "print(stacked)\n",
    "\n",
    "# If axis=1, the arrays are stacked column-wise:\n",
    "stacked_col = np.stack((a, b), axis=1)\n",
    "print(stacked_col)"
   ]
  },
  {
   "cell_type": "markdown",
   "id": "5e27566d-d8c2-4fab-8b58-2c3d8204a3d3",
   "metadata": {},
   "source": [
    "### np.vstack() (Vertical Stack)\n",
    "\n",
    "- Stacks arrays row-wise (vertically).\n",
    "- Works even if arrays are 1D (treats them as rows).\n",
    "- Syntax: `np.vstack((array1, array2, ...))`"
   ]
  },
  {
   "cell_type": "code",
   "execution_count": null,
   "id": "63e6b89f-ebb4-4ec7-b329-5c0ccbccbe21",
   "metadata": {},
   "outputs": [],
   "source": [
    "import numpy as np\n",
    "\n",
    "a = np.array([1, 2, 3])\n",
    "b = np.array([4, 5, 6])\n",
    "\n",
    "v_stacked = np.vstack((a, b))\n",
    "print(v_stacked)"
   ]
  },
  {
   "cell_type": "markdown",
   "id": "3c04f4e9-76b5-45ad-9ee5-daaa87effbfa",
   "metadata": {},
   "source": [
    "### np.hstack() (Horizontal Stack)\n",
    "\n",
    "- Stacks arrays column-wise (horizontally).\n",
    "- Syntax: `np.hstack((array1, array2, ...))`"
   ]
  },
  {
   "cell_type": "code",
   "execution_count": null,
   "id": "b01e7791-864c-4e62-a794-a0c5a8cd9c6d",
   "metadata": {},
   "outputs": [],
   "source": [
    "import numpy as np\n",
    "\n",
    "a = np.array([1, 2, 3])\n",
    "b = np.array([4, 5, 6])\n",
    "\n",
    "h_stacked = np.hstack((a, b))\n",
    "print(h_stacked)"
   ]
  },
  {
   "cell_type": "markdown",
   "id": "cd73ebe4-701c-43fd-8f25-c48f858d55cb",
   "metadata": {},
   "source": [
    "### np.dstack() (Depth Stack)\n",
    "\n",
    "- Stacks arrays along the third axis (depth-wise).\n",
    "- Useful for 3D data (e.g., RGB images).\n",
    "- Syntax: `np.dstack((array1, array2, ...))`"
   ]
  },
  {
   "cell_type": "code",
   "execution_count": null,
   "id": "d0a36f12-1996-4510-a166-33d0d4eb888d",
   "metadata": {},
   "outputs": [],
   "source": [
    "import numpy as np\n",
    "\n",
    "a = np.array([[1, 2], [3, 4]])\n",
    "b = np.array([[5, 6], [7, 8]])\n",
    "\n",
    "d_stacked = np.dstack((a, b))\n",
    "print(d_stacked)"
   ]
  },
  {
   "cell_type": "markdown",
   "id": "b924d361-abbb-4c0d-952f-b3a282f155a5",
   "metadata": {},
   "source": [
    "## Splitting \n",
    "\n",
    "Splitting divides an array into multiple sub-arrays"
   ]
  },
  {
   "cell_type": "markdown",
   "id": "9f8913ef-0e10-4ac8-aa63-270cc796a39c",
   "metadata": {},
   "source": [
    "### np.split()\n",
    "\n",
    "- Splits an array into equal or custom-sized sub-arrays.\n",
    "- Syntax: `np.split(array, indices_or_sections, axis=0)`\n",
    "    - `indices_or_sections`: Number of equal splits or list of split points."
   ]
  },
  {
   "cell_type": "code",
   "execution_count": null,
   "id": "f1bd309d-3131-49df-94f7-27b03d9ca9f1",
   "metadata": {},
   "outputs": [],
   "source": [
    "import numpy as np\n",
    "\n",
    "arr = np.arange(9)  # [0, 1, 2, 3, 4, 5, 6, 7, 8]\n",
    "split_arr = np.split(arr, 3)\n",
    "print(split_arr)\n",
    "\n",
    "split_custom = np.split(arr, [2, 5])  # Split at indices 2 and 5\n",
    "print(split_custom)"
   ]
  },
  {
   "cell_type": "markdown",
   "id": "2761a264-9284-4102-a511-90af3e533228",
   "metadata": {},
   "source": [
    "### np.vsplit() (Vertical Split)\n",
    "\n",
    "- Splits row-wise (along axis=0).\n",
    "- Syntax: `np.vsplit(array, num_splits)`"
   ]
  },
  {
   "cell_type": "code",
   "execution_count": null,
   "id": "844dd1dc-8650-4909-b82d-e58968b0cdf7",
   "metadata": {},
   "outputs": [],
   "source": [
    "import numpy as np\n",
    "\n",
    "arr = np.array([[1, 2], [3, 4], [5, 6]])\n",
    "v_split = np.vsplit(arr, 3)\n",
    "print(v_split)"
   ]
  },
  {
   "cell_type": "markdown",
   "id": "73c9f6b0-e0a2-4222-a5e6-6ff9ae32b354",
   "metadata": {},
   "source": [
    "### np.hsplit() (Horizontal Split)\n",
    "\n",
    "- Splits column-wise (along axis=1).\n",
    "- Syntax: `np.hsplit(array, num_splits)`"
   ]
  },
  {
   "cell_type": "code",
   "execution_count": null,
   "id": "3716bf04-dce8-450e-b891-4695c4279dfe",
   "metadata": {},
   "outputs": [],
   "source": [
    "import numpy as np\n",
    "\n",
    "arr = np.array([[1, 2, 3], [4, 5, 6]])\n",
    "h_split = np.hsplit(arr, 3)\n",
    "print(h_split)"
   ]
  },
  {
   "cell_type": "markdown",
   "id": "2eb0b767-b266-4cbe-8a84-4cac939e8e08",
   "metadata": {},
   "source": [
    "### np.dsplit() (Depth Split)\n",
    "\n",
    "- Splits along the third axis (for 3D arrays).\n",
    "- Syntax: `np.dsplit(array, num_splits)`"
   ]
  },
  {
   "cell_type": "code",
   "execution_count": null,
   "id": "5a8feb52-61cc-499f-8dbb-3adb0202be1a",
   "metadata": {},
   "outputs": [],
   "source": [
    "import numpy as np\n",
    "\n",
    "arr = np.arange(8).reshape(2, 2, 2)  # 3D array\n",
    "d_split = np.dsplit(arr, 2)\n",
    "print(d_split)"
   ]
  },
  {
   "cell_type": "markdown",
   "id": "60ba5bd5-628a-4dff-9a41-73258f225d0b",
   "metadata": {},
   "source": [
    "## Real-World Applications of Stacking and Splitting Arrays in NumPy\n",
    "\n",
    "Stacking and splitting arrays are fundamental operations in NumPy, widely used in data processing, machine learning, image processing, and scientific computing"
   ]
  },
  {
   "cell_type": "markdown",
   "id": "37dcfc50-3bf5-4850-9e37-a6e81851b68c",
   "metadata": {},
   "source": [
    "### Stacking Arrays Applications (Combining Data)"
   ]
  },
  {
   "cell_type": "markdown",
   "id": "0195ba3a-e161-4940-a056-093b1c11b5e2",
   "metadata": {},
   "source": [
    "#### Machine Learning & Deep Learning\n",
    "\n",
    "- Creating Batches for Training:\n",
    "    - Stack multiple samples into a single batch for efficient GPU processing.\n",
    "    - Example: Stacking 100 images (each 28x28) into a batch of shape (100, 28, 28)."
   ]
  },
  {
   "cell_type": "code",
   "execution_count": null,
   "id": "55e81be9-ef4e-4ff5-af1c-e47ec2b42571",
   "metadata": {},
   "outputs": [],
   "source": [
    "import numpy as np\n",
    "\n",
    "images = [np.random.rand(28, 28) for _ in range(100)]\n",
    "batch = np.stack(images)  # Shape: (100, 28, 28)\n",
    "print(batch)"
   ]
  },
  {
   "cell_type": "markdown",
   "id": "ec133a43-ab48-49da-b825-be312c8eed8f",
   "metadata": {},
   "source": [
    "- Feature Concatenation:\n",
    "    - Combine different features (e.g., age, income) into a single dataset."
   ]
  },
  {
   "cell_type": "code",
   "execution_count": null,
   "id": "67f38ca0-2149-4f59-8532-2d2988083066",
   "metadata": {},
   "outputs": [],
   "source": [
    "import numpy as np\n",
    "\n",
    "age = np.array([25, 30, 35])\n",
    "income = np.array([50000, 60000, 70000])\n",
    "features = np.vstack((age, income)).T  # Shape: (3, 2)\n",
    "print(features)"
   ]
  },
  {
   "cell_type": "markdown",
   "id": "9a455358-940c-486b-a734-4c23fdfbd86f",
   "metadata": {},
   "source": [
    "#### Image Processing (Computer Vision)\n",
    "\n",
    "- RGB Image Construction:\n",
    "    - Stack three grayscale channels (Red, Green, Blue) into a single RGB image."
   ]
  },
  {
   "cell_type": "code",
   "execution_count": null,
   "id": "1900baa4-3551-4952-b1f4-bfbe6e6c6b6b",
   "metadata": {},
   "outputs": [],
   "source": [
    "import numpy as np\n",
    "\n",
    "red = np.random.rand(256, 256)\n",
    "green = np.random.rand(256, 256)\n",
    "blue = np.random.rand(256, 256)\n",
    "rgb_image = np.dstack((red, green, blue))  # Shape: (256, 256, 3)\n",
    "print(rgb_image)"
   ]
  },
  {
   "cell_type": "markdown",
   "id": "5ca2e5be-2ad4-49bf-98cc-d526515925b8",
   "metadata": {},
   "source": [
    "- Video Processing:\n",
    "    - Stack multiple frames into a 3D tensor (e.g., for video analysis)."
   ]
  },
  {
   "cell_type": "code",
   "execution_count": null,
   "id": "28d8273a-6bc3-4d5b-9933-1818989fbb1f",
   "metadata": {},
   "outputs": [],
   "source": [
    "import numpy as np\n",
    "\n",
    "frames = [np.random.rand(64, 64) for _ in range(30)]\n",
    "video = np.stack(frames)  # Shape: (30, 64, 64)\n",
    "print(video)"
   ]
  },
  {
   "cell_type": "markdown",
   "id": "b6d4e3be-5410-4bb1-9c4a-b1c30d526148",
   "metadata": {},
   "source": [
    "#### Time-Series Data\n",
    "\n",
    "- Combining Sensor Data:\n",
    "    - Stack readings from multiple sensors (e.g., temperature, pressure) into a single array."
   ]
  },
  {
   "cell_type": "code",
   "execution_count": null,
   "id": "c7f3e7b2-4792-4c9a-bb9f-b7343ad7ed3c",
   "metadata": {},
   "outputs": [],
   "source": [
    "import numpy as np\n",
    "\n",
    "sensor1 = np.random.rand(100)  # Temperature\n",
    "sensor2 = np.random.rand(100)  # Pressure\n",
    "combined = np.vstack((sensor1, sensor2)).T  # Shape: (100, 2)\n",
    "print(combined)"
   ]
  },
  {
   "cell_type": "markdown",
   "id": "e9ef41d9-3c2c-467a-9626-34ef9d0ce231",
   "metadata": {},
   "source": [
    "### Splitting Arrays Applicaton (Dividing Data)"
   ]
  },
  {
   "cell_type": "markdown",
   "id": "099078cc-4dab-42ac-9ac5-76e28baba962",
   "metadata": {},
   "source": [
    "#### Machine Learning (Train-Test Split)\n",
    "\n",
    "- Splitting Data into Training & Testing Sets"
   ]
  },
  {
   "cell_type": "code",
   "execution_count": null,
   "id": "e2f55e19-259c-4574-802b-7d276cafc82c",
   "metadata": {},
   "outputs": [],
   "source": [
    "import numpy as np\n",
    "\n",
    "data = np.random.rand(100, 5)  # 100 samples, 5 features\n",
    "train, test = np.split(data, [80])  # 80 for training, 20 for testing\n",
    "print(train)\n",
    "print(test)"
   ]
  },
  {
   "cell_type": "markdown",
   "id": "afe44f58-dd11-4e18-9899-cd6ef592b55b",
   "metadata": {},
   "source": [
    "#### Image Processing (Channel Separation)\n",
    "\n",
    "- Extracting RGB Channels:"
   ]
  },
  {
   "cell_type": "code",
   "execution_count": null,
   "id": "afbf0556-6f4b-44f9-9ce5-1c04d7074cfc",
   "metadata": {},
   "outputs": [],
   "source": [
    "import numpy as np\n",
    "\n",
    "rgb_image = np.random.rand(256, 256, 3)\n",
    "red, green, blue = np.dsplit(rgb_image, 3)  # Each shape: (256, 256, 1)"
   ]
  },
  {
   "cell_type": "markdown",
   "id": "81eb416a-f8b5-4164-8fe2-a9f27730c480",
   "metadata": {},
   "source": [
    "#### Batch Processing\n",
    "  - Dividing Large Datasets into Mini-Batches"
   ]
  },
  {
   "cell_type": "code",
   "execution_count": 26,
   "id": "3f693fff-a6fb-42ae-84fa-edc2a59bb529",
   "metadata": {},
   "outputs": [],
   "source": [
    "import numpy as np\n",
    "\n",
    "dataset = np.random.rand(1000, 10)  # 1000 samples\n",
    "batches = np.split(dataset, 10)  # 10 batches of 100 samples each"
   ]
  },
  {
   "cell_type": "markdown",
   "id": "cb51e252-97ea-4ebc-ba61-578f79dbad16",
   "metadata": {},
   "source": [
    "#### Time-Series Analysis\n",
    "    - Splitting Sequential Data into Windows"
   ]
  },
  {
   "cell_type": "code",
   "execution_count": 28,
   "id": "abcf623d-9d55-472a-a23d-49d49fbacdac",
   "metadata": {},
   "outputs": [],
   "source": [
    "import numpy as np\n",
    "time_series = np.random.rand(1000)  # 1000 time steps\n",
    "windows = np.split(time_series, 10)  # 10 windows of 100 steps each"
   ]
  },
  {
   "cell_type": "code",
   "execution_count": null,
   "id": "e0d453e9-c5c0-4b02-8ce4-5d80e316c363",
   "metadata": {},
   "outputs": [],
   "source": []
  }
 ],
 "metadata": {
  "kernelspec": {
   "display_name": "Python 3 (ipykernel)",
   "language": "python",
   "name": "python3"
  },
  "language_info": {
   "codemirror_mode": {
    "name": "ipython",
    "version": 3
   },
   "file_extension": ".py",
   "mimetype": "text/x-python",
   "name": "python",
   "nbconvert_exporter": "python",
   "pygments_lexer": "ipython3",
   "version": "3.12.5"
  }
 },
 "nbformat": 4,
 "nbformat_minor": 5
}
