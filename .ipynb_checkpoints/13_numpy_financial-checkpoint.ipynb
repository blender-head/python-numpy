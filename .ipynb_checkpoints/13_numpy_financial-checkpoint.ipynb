{
 "cells": [
  {
   "cell_type": "markdown",
   "id": "70694488-5fa6-4024-bcaa-db27b588cab0",
   "metadata": {},
   "source": [
    "# NumPy Financial Functions"
   ]
  },
  {
   "cell_type": "markdown",
   "id": "5cd9b8d6-088f-4a26-bb41-4ca1e443bcc8",
   "metadata": {},
   "source": [
    "The numpy_financial library provides financial functions for calculations like loans, investments, and cash flow analysis. It was split from NumPy to reduce dependencies. Below are the key functions with example usage for each"
   ]
  },
  {
   "cell_type": "markdown",
   "id": "11311434-e9f1-42f1-ae78-2f38a63b33ff",
   "metadata": {},
   "source": [
    "## Installation"
   ]
  },
  {
   "cell_type": "markdown",
   "id": "b91d008a-ce65-4abf-bbc8-5776544bd520",
   "metadata": {},
   "source": [
    "```\n",
    "pip install numpy-financial\n",
    "```"
   ]
  },
  {
   "cell_type": "markdown",
   "id": "2a7df7e8-081d-40cc-af04-40c25fd93ae8",
   "metadata": {},
   "source": [
    "## Common Parameters\n",
    "\n",
    "- `rate`: Interest rate per period\n",
    "- `nper`: Number of compounding periods\n",
    "- `pmt`: Payment amount per period\n",
    "- `pv`: Present value (initial investment)\n",
    "- `when`: When payments are due (0=end of period, 1=beginning)"
   ]
  },
  {
   "cell_type": "markdown",
   "id": "c198e21e-709b-4371-92f2-82738e77fdd8",
   "metadata": {},
   "source": [
    "## Future Value"
   ]
  },
  {
   "cell_type": "markdown",
   "id": "b6ccbddd-647e-46c3-a2c3-ba6fd44775bf",
   "metadata": {},
   "source": [
    "Calculates the future value of an investment.\n",
    "\n",
    "Formula:\n",
    "`fv(rate, nper, pmt, pv, when='end')`"
   ]
  },
  {
   "cell_type": "code",
   "execution_count": null,
   "id": "0fdb2b47-1fd4-4d58-b23b-82a9977c9918",
   "metadata": {},
   "outputs": [],
   "source": [
    "import numpy_financial as npf\n",
    "\n",
    "# Invest $1000 at 5% annual interest for 10 years, adding $100 yearly.\n",
    "fv = npf.fv(rate=0.05, nper=10, pmt=-100, pv=-1000)  \n",
    "print(f\"Future Value: ${fv:.2f}\")  # Output: Future Value: $2581.13"
   ]
  },
  {
   "cell_type": "markdown",
   "id": "4cb878fc-3724-466e-9b58-71119c7eecd3",
   "metadata": {},
   "source": [
    "Negative pmt and pv indicate outgoing payments."
   ]
  },
  {
   "cell_type": "markdown",
   "id": "fdb62be6-f425-4042-876d-443bcd2e3b55",
   "metadata": {},
   "source": [
    "## Present Value"
   ]
  },
  {
   "cell_type": "markdown",
   "id": "1108cce8-24d8-450b-b607-22e0f79f5ca5",
   "metadata": {},
   "source": [
    "Calculates the present value of an investment.\n",
    "    \n",
    "Formula:\n",
    "`pv(rate, nper, pmt, fv=0, when='end')`"
   ]
  },
  {
   "cell_type": "code",
   "execution_count": null,
   "id": "5c4aec64-1f5e-412a-92b4-75223eebc38d",
   "metadata": {},
   "outputs": [],
   "source": [
    "import numpy_financial as npf\n",
    "\n",
    "# How much to invest now to have $10,000 in 10 years at 6% annual return\n",
    "pv = npf.pv(rate=0.06, nper=10, pmt=0, fv=10000)\n",
    "print(f\"Present value: ${-pv:.2f}\")\n",
    "# Output: Present value: $5583.95"
   ]
  },
  {
   "cell_type": "markdown",
   "id": "56256d60-ced7-4430-ae39-69f2f658b734",
   "metadata": {},
   "source": [
    "## Payment "
   ]
  },
  {
   "cell_type": "markdown",
   "id": "09ba4b17-6878-429d-b700-c5c096e48cd6",
   "metadata": {},
   "source": [
    "Calculates the payment for a loan."
   ]
  },
  {
   "cell_type": "code",
   "execution_count": null,
   "id": "d869425f-be0d-4fb2-92f7-1b96ea2f6d89",
   "metadata": {},
   "outputs": [],
   "source": [
    "import numpy_financial as npf\n",
    "\n",
    "# Monthly payment for $200,000 mortgage, 30 years, 4% annual interest\n",
    "monthly_rate = 0.04/12\n",
    "months = 30*12\n",
    "payment = npf.pmt(rate=monthly_rate, nper=months, pv=200000)\n",
    "print(f\"Monthly payment: ${-payment:.2f}\")\n",
    "# Output: Monthly payment: $954.83"
   ]
  },
  {
   "cell_type": "markdown",
   "id": "de731275-9858-40d6-9647-b350b6d225ee",
   "metadata": {},
   "source": [
    "## Net Present Value"
   ]
  },
  {
   "cell_type": "markdown",
   "id": "77125e03-16f6-4b98-8661-bd1039802c03",
   "metadata": {},
   "source": [
    "Calculates the net present value of a cash flow series."
   ]
  },
  {
   "cell_type": "code",
   "execution_count": null,
   "id": "4010e32d-d884-444a-aef6-f50db5b45704",
   "metadata": {},
   "outputs": [],
   "source": [
    "import numpy_financial as npf\n",
    "\n",
    "# NPV of a project with initial $1000 investment and future cash flows\n",
    "cash_flows = [-1000, 300, 400, 500, 400]\n",
    "npv = npf.npv(rate=0.08, values=cash_flows)\n",
    "print(f\"Net Present Value: ${npv:.2f}\")\n",
    "# Output: Net Present Value: $294.04"
   ]
  },
  {
   "cell_type": "markdown",
   "id": "6f24226f-4981-4e51-a6df-fcec1e1e80bf",
   "metadata": {},
   "source": [
    "## Internal Rate of Return"
   ]
  },
  {
   "cell_type": "markdown",
   "id": "1f400b78-2389-4a76-a3a8-84b1987c24f9",
   "metadata": {},
   "source": [
    "Calculates the internal rate of return for a series of cash flows."
   ]
  },
  {
   "cell_type": "code",
   "execution_count": null,
   "id": "3997260a-08c9-496b-ae3d-3651b50410b9",
   "metadata": {},
   "outputs": [],
   "source": [
    "import numpy_financial as npf\n",
    "\n",
    "cash_flows = [-5000, 1500, 2000, 2500, 1000]\n",
    "rate_of_return = npf.irr(cash_flows)\n",
    "print(f\"Internal Rate of Return: {rate_of_return:.2%}\")\n",
    "# Output: Internal Rate of Return: 14.22%"
   ]
  },
  {
   "cell_type": "markdown",
   "id": "a784b157-3a86-46b2-892a-b5de05e545bb",
   "metadata": {},
   "source": [
    "## Number of Periods"
   ]
  },
  {
   "cell_type": "markdown",
   "id": "505a3a7b-9f41-45c9-83fd-a93972f17d68",
   "metadata": {},
   "source": [
    "Calculates the number of periods for an investment."
   ]
  },
  {
   "cell_type": "code",
   "execution_count": null,
   "id": "f049635f-28ab-4b73-aa1e-4d7996acc438",
   "metadata": {},
   "outputs": [],
   "source": [
    "import numpy_financial as npf\n",
    "\n",
    "# How long to grow $1000 to $2000 at 7% annual return\n",
    "periods = npf.nper(rate=0.07, pmt=0, pv=-1000, fv=2000)\n",
    "print(f\"Years required: {periods:.1f}\")\n",
    "# Output: Years required: 10.2"
   ]
  },
  {
   "cell_type": "markdown",
   "id": "1d93aea0-86aa-40fe-a313-d672b1015be8",
   "metadata": {},
   "source": [
    "## Rate of Return"
   ]
  },
  {
   "cell_type": "markdown",
   "id": "835b4763-1e40-4b88-97a0-7788636c25fc",
   "metadata": {},
   "source": [
    "Calculates the interest rate per period."
   ]
  },
  {
   "cell_type": "code",
   "execution_count": 10,
   "id": "dae1b0d0-7307-425d-9e56-34a91981d06b",
   "metadata": {},
   "outputs": [
    {
     "name": "stdout",
     "output_type": "stream",
     "text": [
      "Required annual rate: 8.45%\n"
     ]
    }
   ],
   "source": [
    "import numpy_financial as npf\n",
    "\n",
    "# What interest rate turns $1000 into $1500 in 5 years?\n",
    "interest_rate = npf.rate(nper=5, pmt=0, pv=-1000, fv=1500)\n",
    "print(f\"Required annual rate: {interest_rate:.2%}\")\n",
    "# Output: Required annual rate: 8.45%"
   ]
  },
  {
   "cell_type": "code",
   "execution_count": null,
   "id": "dbcb7a2e-8f5e-4f37-8d28-5eb785b7fde8",
   "metadata": {},
   "outputs": [],
   "source": []
  }
 ],
 "metadata": {
  "kernelspec": {
   "display_name": "Python 3 (ipykernel)",
   "language": "python",
   "name": "python3"
  },
  "language_info": {
   "codemirror_mode": {
    "name": "ipython",
    "version": 3
   },
   "file_extension": ".py",
   "mimetype": "text/x-python",
   "name": "python",
   "nbconvert_exporter": "python",
   "pygments_lexer": "ipython3",
   "version": "3.12.5"
  }
 },
 "nbformat": 4,
 "nbformat_minor": 5
}
