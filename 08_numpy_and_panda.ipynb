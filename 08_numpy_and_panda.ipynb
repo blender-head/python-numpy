{
 "cells": [
  {
   "cell_type": "markdown",
   "id": "efda2259-763d-4738-bd5c-2d7913efdb3c",
   "metadata": {},
   "source": [
    "# Using Pandas and NumPy"
   ]
  },
  {
   "cell_type": "markdown",
   "id": "460d965c-c9ae-4c08-ac33-e7f6706f38fa",
   "metadata": {},
   "source": [
    "todo"
   ]
  },
  {
   "cell_type": "code",
   "execution_count": null,
   "id": "99732a9d-89f0-4e64-b398-13e9369db995",
   "metadata": {},
   "outputs": [],
   "source": []
  }
 ],
 "metadata": {
  "kernelspec": {
   "display_name": "Python 3 (ipykernel)",
   "language": "python",
   "name": "python3"
  },
  "language_info": {
   "codemirror_mode": {
    "name": "ipython",
    "version": 3
   },
   "file_extension": ".py",
   "mimetype": "text/x-python",
   "name": "python",
   "nbconvert_exporter": "python",
   "pygments_lexer": "ipython3",
   "version": "3.12.5"
  }
 },
 "nbformat": 4,
 "nbformat_minor": 5
}
