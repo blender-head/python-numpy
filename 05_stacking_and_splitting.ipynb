{
 "cells": [
  {
   "cell_type": "markdown",
   "id": "cbd7266e-035f-49e4-90f8-1b123646d2c5",
   "metadata": {},
   "source": [
    "# Stacking and Splitting\n",
    "\n",
    "In NumPy, stacking and splitting are operations used to combine and divide arrays, respectively. They are essential for data manipulation in machine learning, scientific computing, and numerical analysis"
   ]
  },
  {
   "cell_type": "markdown",
   "id": "8d2c4eb0-6a3e-4900-9ee7-f9695ba5250c",
   "metadata": {},
   "source": [
    "## Stacking\n",
    "\n",
    "Stacking combines multiple arrays into a single array along a specified axis"
   ]
  },
  {
   "cell_type": "markdown",
   "id": "81f1766e-a0be-4f29-9a4b-2d2185401280",
   "metadata": {},
   "source": [
    "### np.stack()\n",
    "\n",
    "- Stacks arrays along a new axis (does not just concatenate).\n",
    "- All input arrays must have the same shape.\n",
    "- Syntax: `np.stack((array1, array2, ...), axis=0)`"
   ]
  },
  {
   "cell_type": "code",
   "execution_count": 3,
   "id": "269d3ac7-dca7-44a5-9e6a-6ec66a2f66b3",
   "metadata": {},
   "outputs": [
    {
     "name": "stdout",
     "output_type": "stream",
     "text": [
      "[[1 2 3]\n",
      " [4 5 6]]\n",
      "[[1 4]\n",
      " [2 5]\n",
      " [3 6]]\n"
     ]
    }
   ],
   "source": [
    "import numpy as np\n",
    "\n",
    "a = np.array([1, 2, 3])\n",
    "b = np.array([4, 5, 6])\n",
    "\n",
    "# Stack along a new axis (default: axis=0)\n",
    "stacked = np.stack((a, b))\n",
    "print(stacked)\n",
    "\n",
    "# If axis=1, the arrays are stacked column-wise:\n",
    "stacked_col = np.stack((a, b), axis=1)\n",
    "print(stacked_col)"
   ]
  },
  {
   "cell_type": "markdown",
   "id": "5e27566d-d8c2-4fab-8b58-2c3d8204a3d3",
   "metadata": {},
   "source": [
    "### np.vstack() (Vertical Stack)\n",
    "\n",
    "- Stacks arrays row-wise (vertically).\n",
    "- Works even if arrays are 1D (treats them as rows).\n",
    "- Syntax: `np.vstack((array1, array2, ...))`"
   ]
  },
  {
   "cell_type": "code",
   "execution_count": 4,
   "id": "63e6b89f-ebb4-4ec7-b329-5c0ccbccbe21",
   "metadata": {},
   "outputs": [
    {
     "name": "stdout",
     "output_type": "stream",
     "text": [
      "[[1 2 3]\n",
      " [4 5 6]]\n"
     ]
    }
   ],
   "source": [
    "import numpy as np\n",
    "\n",
    "a = np.array([1, 2, 3])\n",
    "b = np.array([4, 5, 6])\n",
    "\n",
    "v_stacked = np.vstack((a, b))\n",
    "print(v_stacked)"
   ]
  },
  {
   "cell_type": "markdown",
   "id": "3c04f4e9-76b5-45ad-9ee5-daaa87effbfa",
   "metadata": {},
   "source": [
    "### np.hstack() (Horizontal Stack)\n",
    "\n",
    "- Stacks arrays column-wise (horizontally).\n",
    "- Syntax: `np.hstack((array1, array2, ...))`"
   ]
  },
  {
   "cell_type": "code",
   "execution_count": 5,
   "id": "b01e7791-864c-4e62-a794-a0c5a8cd9c6d",
   "metadata": {},
   "outputs": [
    {
     "name": "stdout",
     "output_type": "stream",
     "text": [
      "[1 2 3 4 5 6]\n"
     ]
    }
   ],
   "source": [
    "import numpy as np\n",
    "\n",
    "a = np.array([1, 2, 3])\n",
    "b = np.array([4, 5, 6])\n",
    "\n",
    "h_stacked = np.hstack((a, b))\n",
    "print(h_stacked)"
   ]
  },
  {
   "cell_type": "markdown",
   "id": "cd73ebe4-701c-43fd-8f25-c48f858d55cb",
   "metadata": {},
   "source": [
    "### np.dstack() (Depth Stack)\n",
    "\n",
    "- Stacks arrays along the third axis (depth-wise).\n",
    "- Useful for 3D data (e.g., RGB images).\n",
    "- Syntax: `np.dstack((array1, array2, ...))`"
   ]
  },
  {
   "cell_type": "code",
   "execution_count": 6,
   "id": "d0a36f12-1996-4510-a166-33d0d4eb888d",
   "metadata": {},
   "outputs": [
    {
     "name": "stdout",
     "output_type": "stream",
     "text": [
      "[[[1 5]\n",
      "  [2 6]]\n",
      "\n",
      " [[3 7]\n",
      "  [4 8]]]\n"
     ]
    }
   ],
   "source": [
    "import numpy as np\n",
    "\n",
    "a = np.array([[1, 2], [3, 4]])\n",
    "b = np.array([[5, 6], [7, 8]])\n",
    "\n",
    "d_stacked = np.dstack((a, b))\n",
    "print(d_stacked)"
   ]
  },
  {
   "cell_type": "markdown",
   "id": "b924d361-abbb-4c0d-952f-b3a282f155a5",
   "metadata": {},
   "source": [
    "## Splitting \n",
    "\n",
    "Splitting divides an array into multiple sub-arrays"
   ]
  },
  {
   "cell_type": "markdown",
   "id": "9f8913ef-0e10-4ac8-aa63-270cc796a39c",
   "metadata": {},
   "source": [
    "### np.split()\n",
    "\n",
    "- Splits an array into equal or custom-sized sub-arrays.\n",
    "- Syntax: `np.split(array, indices_or_sections, axis=0)`\n",
    "    - `indices_or_sections`: Number of equal splits or list of split points."
   ]
  },
  {
   "cell_type": "code",
   "execution_count": 8,
   "id": "f1bd309d-3131-49df-94f7-27b03d9ca9f1",
   "metadata": {},
   "outputs": [
    {
     "name": "stdout",
     "output_type": "stream",
     "text": [
      "[array([0, 1, 2]), array([3, 4, 5]), array([6, 7, 8])]\n",
      "[array([0, 1]), array([2, 3, 4]), array([5, 6, 7, 8])]\n"
     ]
    }
   ],
   "source": [
    "import numpy as np\n",
    "\n",
    "arr = np.arange(9)  # [0, 1, 2, 3, 4, 5, 6, 7, 8]\n",
    "split_arr = np.split(arr, 3)\n",
    "print(split_arr)\n",
    "\n",
    "split_custom = np.split(arr, [2, 5])  # Split at indices 2 and 5\n",
    "print(split_custom)"
   ]
  },
  {
   "cell_type": "markdown",
   "id": "2761a264-9284-4102-a511-90af3e533228",
   "metadata": {},
   "source": [
    "### np.vsplit() (Vertical Split)\n",
    "\n",
    "- Splits row-wise (along axis=0).\n",
    "- Syntax: `np.vsplit(array, num_splits)`"
   ]
  },
  {
   "cell_type": "code",
   "execution_count": 13,
   "id": "844dd1dc-8650-4909-b82d-e58968b0cdf7",
   "metadata": {},
   "outputs": [
    {
     "name": "stdout",
     "output_type": "stream",
     "text": [
      "[array([[1, 2]]), array([[3, 4]]), array([[5, 6]])]\n"
     ]
    }
   ],
   "source": [
    "import numpy as np\n",
    "\n",
    "arr = np.array([[1, 2], [3, 4], [5, 6]])\n",
    "v_split = np.vsplit(arr, 3)\n",
    "print(v_split)"
   ]
  },
  {
   "cell_type": "markdown",
   "id": "73c9f6b0-e0a2-4222-a5e6-6ff9ae32b354",
   "metadata": {},
   "source": [
    "### np.hsplit() (Horizontal Split)\n",
    "\n",
    "- Splits column-wise (along axis=1).\n",
    "- Syntax: `np.hsplit(array, num_splits)`"
   ]
  },
  {
   "cell_type": "code",
   "execution_count": 14,
   "id": "3716bf04-dce8-450e-b891-4695c4279dfe",
   "metadata": {},
   "outputs": [
    {
     "name": "stdout",
     "output_type": "stream",
     "text": [
      "[array([[1],\n",
      "       [4]]), array([[2],\n",
      "       [5]]), array([[3],\n",
      "       [6]])]\n"
     ]
    }
   ],
   "source": [
    "import numpy as np\n",
    "\n",
    "arr = np.array([[1, 2, 3], [4, 5, 6]])\n",
    "h_split = np.hsplit(arr, 3)\n",
    "print(h_split)"
   ]
  },
  {
   "cell_type": "markdown",
   "id": "2eb0b767-b266-4cbe-8a84-4cac939e8e08",
   "metadata": {},
   "source": [
    "### np.dsplit() (Depth Split)\n",
    "\n",
    "- Splits along the third axis (for 3D arrays).\n",
    "- Syntax: `np.dsplit(array, num_splits)`"
   ]
  },
  {
   "cell_type": "code",
   "execution_count": 15,
   "id": "5a8feb52-61cc-499f-8dbb-3adb0202be1a",
   "metadata": {},
   "outputs": [
    {
     "name": "stdout",
     "output_type": "stream",
     "text": [
      "[array([[[0],\n",
      "        [2]],\n",
      "\n",
      "       [[4],\n",
      "        [6]]]), array([[[1],\n",
      "        [3]],\n",
      "\n",
      "       [[5],\n",
      "        [7]]])]\n"
     ]
    }
   ],
   "source": [
    "import numpy as np\n",
    "\n",
    "arr = np.arange(8).reshape(2, 2, 2)  # 3D array\n",
    "d_split = np.dsplit(arr, 2)\n",
    "print(d_split)"
   ]
  },
  {
   "cell_type": "code",
   "execution_count": null,
   "id": "1f24f113-80bd-4fe7-9812-020b11434c10",
   "metadata": {},
   "outputs": [],
   "source": []
  }
 ],
 "metadata": {
  "kernelspec": {
   "display_name": "Python 3 (ipykernel)",
   "language": "python",
   "name": "python3"
  },
  "language_info": {
   "codemirror_mode": {
    "name": "ipython",
    "version": 3
   },
   "file_extension": ".py",
   "mimetype": "text/x-python",
   "name": "python",
   "nbconvert_exporter": "python",
   "pygments_lexer": "ipython3",
   "version": "3.12.5"
  }
 },
 "nbformat": 4,
 "nbformat_minor": 5
}
